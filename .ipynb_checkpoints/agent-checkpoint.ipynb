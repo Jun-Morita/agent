{
 "cells": [
  {
   "cell_type": "markdown",
   "metadata": {},
   "source": [
    "# Library"
   ]
  },
  {
   "cell_type": "code",
   "execution_count": 1,
   "metadata": {},
   "outputs": [],
   "source": [
    "# 標準ライブラリのインポート\n",
    "import os\n",
    "import json\n",
    "\n",
    "# サードパーティライブラリのインポート\n",
    "import requests\n",
    "from dotenv import load_dotenv\n",
    "import pandas_datareader.data as web \n",
    "import xml.etree.ElementTree as ET\n",
    "from IPython.display import Markdown, display\n",
    "\n",
    "# LLM関連のインポート\n",
    "from openai import OpenAI\n",
    "\n",
    "# APIキーの設定\n",
    "load_dotenv() \n",
    "os.environ['OPENAI_API_KEY'] = os.getenv('OPENAI_API_KEY')\n",
    "\n",
    "# GPTモデルの設定\n",
    "model_name='gpt-4o-mini-2024-07-18' #'gpt-4o-2024-08-06'"
   ]
  },
  {
   "cell_type": "markdown",
   "metadata": {},
   "source": [
    "# 株価を取得する関数"
   ]
  },
  {
   "cell_type": "code",
   "execution_count": 2,
   "metadata": {},
   "outputs": [],
   "source": [
    "# DataReaderでstooqから株価情報を取得する関数を定義（開始日～終了日）\n",
    "def get_stock_price(code, date_from ,date_to):\n",
    "    # 日本用のコードに変換\n",
    "    code = code + '.JP'\n",
    "    # stooqからデータ取得\n",
    "    df = web.DataReader(code, data_source='stooq', start=date_from,end=date_to)\n",
    "    # 日付と株価の終値を返す ※日付形式がおかしくなるのでorient='table'を利用\n",
    "    return df['Close'].to_json(orient='table')\n",
    "\n",
    "def get_stock_price_range(arguments):\n",
    "    res = get_stock_price(\n",
    "        code = arguments.get('code'),\n",
    "        date_from = arguments.get('date_from'),\n",
    "        date_to = arguments.get('date_to')\n",
    "    )\n",
    "    return res"
   ]
  },
  {
   "cell_type": "markdown",
   "metadata": {},
   "source": [
    "# 天気を取得する関数"
   ]
  },
  {
   "cell_type": "code",
   "execution_count": 3,
   "metadata": {},
   "outputs": [],
   "source": [
    "# 天気情報を取得する関数を定義\n",
    "def get_info(latitude, longitude):\n",
    "    url = \"https://api.open-meteo.com/v1/forecast\"\n",
    "    parameters = {\n",
    "        \"latitude\": latitude,\n",
    "        \"longitude\": longitude,\n",
    "        \"current_weather\": \"true\"}\n",
    "    response = requests.get(url, params=parameters)\n",
    "\n",
    "    if response.status_code == 200:\n",
    "        data = response.json()\n",
    "        return json.dumps(data[\"current_weather\"])\n",
    "    else:\n",
    "        return None\n",
    "\n",
    "def get_weather_by_location(arguments):\n",
    "    res = get_info(\n",
    "        # 緯度と経度の情報 取得\n",
    "        latitude = arguments.get('latitude'),\n",
    "        longitude = arguments.get('longitude')\n",
    "    )\n",
    "    return res"
   ]
  },
  {
   "cell_type": "markdown",
   "metadata": {},
   "source": [
    "# 書籍情報を取得する関数"
   ]
  },
  {
   "cell_type": "code",
   "execution_count": 4,
   "metadata": {},
   "outputs": [],
   "source": [
    "# 書籍情報を取得する関数を定義\n",
    "def get_books(keyword):\n",
    "    url = \"https://ci.nii.ac.jp/books/opensearch/search\"\n",
    "    parameters = {\n",
    "        \"q\": keyword\n",
    "    }\n",
    "    response = requests.get(url, params=parameters)\n",
    "\n",
    "    if response.status_code == 200:\n",
    "        try:\n",
    "            # Parse the XML response\n",
    "            root = ET.fromstring(response.content)\n",
    "            \n",
    "            # Extract book titles and other relevant information\n",
    "            books = []\n",
    "            for entry in root.findall('{http://www.w3.org/2005/Atom}entry'):\n",
    "                title = entry.find('{http://www.w3.org/2005/Atom}title').text\n",
    "                link = entry.find('{http://www.w3.org/2005/Atom}link').attrib['href']\n",
    "                author = entry.find('{http://purl.org/dc/elements/1.1/}publisher').text if entry.find('{http://purl.org/dc/elements/1.1/}publisher') is not None else 'Unknown'\n",
    "                \n",
    "                books.append({\n",
    "                    \"title\": title,\n",
    "                    \"link\": link,\n",
    "                    \"author\": author\n",
    "                })\n",
    "            \n",
    "            return json.dumps(books, ensure_ascii=False)  # Ensure correct encoding for Japanese characters\n",
    "        except ET.ParseError as e:\n",
    "            st.error(\"Failed to parse XML. Error:\")\n",
    "            st.write(str(e))\n",
    "            return None\n",
    "    else:\n",
    "        st.error(f\"Error: {response.status_code}\")\n",
    "        st.write(response.text)\n",
    "        return None\n",
    "\n",
    "def get_books_by_keyword(arguments):\n",
    "    res = get_books(\n",
    "        keyword=arguments.get('keyword')\n",
    "    )\n",
    "    return res"
   ]
  },
  {
   "cell_type": "markdown",
   "metadata": {},
   "source": [
    "# Wikipedia情報を取得する関数を定義"
   ]
  },
  {
   "cell_type": "code",
   "execution_count": 5,
   "metadata": {},
   "outputs": [],
   "source": [
    "# Wikipedia情報を取得する関数を定義\n",
    "def get_wikipedia_info(keyword):\n",
    "    url = f\"https://ja.wikipedia.org/w/api.php\"\n",
    "    parameters = {\n",
    "        \"action\": \"query\",\n",
    "        \"format\": \"json\",\n",
    "        \"prop\": \"extracts\",\n",
    "        \"exintro\": True,\n",
    "        \"explaintext\": True,\n",
    "        \"titles\": keyword\n",
    "    }\n",
    "    response = requests.get(url, params=parameters)\n",
    "\n",
    "    if response.status_code == 200:\n",
    "        data = response.json()\n",
    "        pages = data[\"query\"][\"pages\"]\n",
    "        page_id = next(iter(pages))\n",
    "        if page_id != \"-1\":\n",
    "            return pages[page_id][\"extract\"]\n",
    "        else:\n",
    "            return \"Wikipedia page not found for the keyword.\"\n",
    "    else:\n",
    "        return f\"Error: {response.status_code}\"\n",
    "\n",
    "def get_wikipedia_by_keyword(arguments):\n",
    "    res = get_wikipedia_info(\n",
    "        keyword=arguments.get('keyword')\n",
    "    )\n",
    "    return res"
   ]
  },
  {
   "cell_type": "markdown",
   "metadata": {},
   "source": [
    "# Function callingの設定"
   ]
  },
  {
   "cell_type": "code",
   "execution_count": 6,
   "metadata": {},
   "outputs": [],
   "source": [
    "# 使用するツールのリスト\n",
    "tools = [\n",
    "    {\n",
    "        \"type\": \"function\",\n",
    "        \"function\": {\n",
    "            \"name\": \"get_stock_price_range\",  \n",
    "            \"description\": \"証券コードと2つの日付を渡すと指定の会社のその2つの日付の間の株価の終値を返します\",  \n",
    "            \"parameters\": {\n",
    "                \"type\": \"object\",\n",
    "                \"properties\": {\n",
    "                    \"code\": {\n",
    "                        \"type\": \"string\",\n",
    "                        \"description\": \"証券コード\",\n",
    "                    },\n",
    "                    \"date_from\": {\n",
    "                        \"type\": \"string\",\n",
    "                        \"description\": \"株価を知りたい日付の開始日\",\n",
    "                    },\n",
    "                    \"date_to\": {\n",
    "                        \"type\": \"string\",\n",
    "                        \"description\": \"株価を知りたい日付の終了日\",\n",
    "                    },\n",
    "                },\n",
    "                \"required\": [\"code\", \"date_from\", \"date_to\"],\n",
    "            },\n",
    "        },\n",
    "    },\n",
    "    {\n",
    "        \"type\": \"function\",\n",
    "        \"function\": {\n",
    "            \"name\": \"get_weather_by_location\",  \n",
    "            \"description\": \"緯度と経度の情報から現在と将来の天気を取得\",\n",
    "            \"parameters\": {\n",
    "                \"type\": \"object\",\n",
    "                \"properties\": {\n",
    "                    \"latitude\": {\n",
    "                        \"type\": \"string\",\n",
    "                        \"description\": \"緯度\",\n",
    "                    },\n",
    "                    \"longitude\": {\n",
    "                        \"type\": \"string\",\n",
    "                        \"description\": \"経度\",\n",
    "                    },\n",
    "                },\n",
    "                \"required\": [\"latitude\", \"longitude\"],\n",
    "            },\n",
    "        },\n",
    "    },\n",
    "    {\n",
    "        \"type\": \"function\",\n",
    "        \"function\": {\n",
    "            \"name\": \"get_books_by_keyword\",\n",
    "            \"description\": \"キーワードで書籍情報を検索し、関連する書籍情報を取得します\",\n",
    "            \"parameters\": {\n",
    "                \"type\": \"object\",\n",
    "                \"properties\": {\n",
    "                    \"keyword\": {\n",
    "                        \"type\": \"string\",\n",
    "                        \"description\": \"書籍情報を取得するための検索キーワード\",\n",
    "                    },\n",
    "                },\n",
    "                \"required\": [\"keyword\"],\n",
    "            },\n",
    "        },\n",
    "    },\n",
    "    {\n",
    "        \"type\": \"function\",\n",
    "        \"function\": {\n",
    "            \"name\": \"get_wikipedia_by_keyword\",\n",
    "            \"description\": \"キーワードで日本語Wikipediaから情報を取得します\",\n",
    "            \"parameters\": {\n",
    "                \"type\": \"object\",\n",
    "                \"properties\": {\n",
    "                    \"keyword\": {\n",
    "                        \"type\": \"string\",\n",
    "                        \"description\": \"Wikipediaで情報を取得するための検索キーワード\",\n",
    "                    },\n",
    "                },\n",
    "                \"required\": [\"keyword\"],\n",
    "            },\n",
    "        },\n",
    "    },\n",
    "]"
   ]
  },
  {
   "cell_type": "markdown",
   "metadata": {},
   "source": [
    "# LLM"
   ]
  },
  {
   "cell_type": "code",
   "execution_count": 7,
   "metadata": {},
   "outputs": [],
   "source": [
    "def llm_agent(user_input):\n",
    "\n",
    "    client = OpenAI()\n",
    "\n",
    "    messages = [\n",
    "        {\"role\": \"system\", \"content\": \"You are a helpful assistant. Use the supplied tools to assist the user if needed.\"},\n",
    "        {\"role\": \"user\", \"content\": user_input}\n",
    "    ]\n",
    "\n",
    "    # ChatGPT API呼び出し\n",
    "    response = client.chat.completions.create(\n",
    "        model=model_name,\n",
    "        messages=messages,\n",
    "        tools=tools,\n",
    "        tool_choice='auto',\n",
    "    )\n",
    "\n",
    "    # ツール呼び出しの結果があるか確認\n",
    "    tool_calls = getattr(response.choices[0].message, 'tool_calls', None)  # tool_callsが存在しない場合はNone\n",
    "\n",
    "    if tool_calls:\n",
    "        for tool_call in tool_calls:\n",
    "            function_name = tool_call.function.name  # 属性としてアクセス\n",
    "            arguments = json.loads(tool_call.function.arguments)\n",
    "\n",
    "            # 関数の種類に基づいて処理を呼び出す\n",
    "            if function_name == 'get_stock_price_range':\n",
    "                function_response = get_stock_price_range(arguments)\n",
    "            elif function_name == 'get_weather_by_location':\n",
    "                function_response = get_weather_by_location(arguments)\n",
    "            elif function_name == 'get_books_by_keyword':\n",
    "                function_response = get_books_by_keyword(arguments)\n",
    "            elif function_name == 'get_wikipedia_by_keyword':\n",
    "                function_response = get_wikipedia_by_keyword(arguments)\n",
    "            else:\n",
    "                raise NotImplementedError(f\"Unknown function: {function_name}\")\n",
    "\n",
    "            # ツール呼び出しごとに適切に応答を作成\n",
    "            second_response = client.chat.completions.create(\n",
    "                model=model_name,\n",
    "                messages=[\n",
    "                    {'role': 'system', 'content': \"You are a helpful assistant.\"},\n",
    "                    {\"role\": \"user\", \"content\": user_input},\n",
    "                    {\"role\": \"assistant\", \"tool_call_id\": tool_call.id, \"content\": \"\"},  # 空文字列を設定\n",
    "                    {\n",
    "                        'role': 'function',\n",
    "                        'name': function_name,\n",
    "                        'content': str(function_response),\n",
    "                    },\n",
    "                ]\n",
    "            )\n",
    "            # 最終的な応答を表示\n",
    "            display(Markdown(second_response.choices[0].message.content))\n",
    "    else:\n",
    "        # 関数が呼び出されていない場合、通常の応答を表示\n",
    "        display(Markdown(response.choices[0].message.content))\n"
   ]
  },
  {
   "cell_type": "code",
   "execution_count": 8,
   "metadata": {},
   "outputs": [
    {
     "data": {
      "text/markdown": [
       "三井住友フィナンシャルグループの2024年9月の株価の動向を見てみましょう。\n",
       "\n",
       "9月の株価は以下のように変動しました：\n",
       "\n",
       "- **9月2日**: 9597円\n",
       "- **9月3日**: 9910円（大幅な上昇）\n",
       "- **9月4日**: 9415円（下落）\n",
       "- **9月5日**: 9324円（下落）\n",
       "- **9月6日**: 9180円（下落）\n",
       "- **9月9日**: 8990円（下落）\n",
       "- **9月10日**: 9036円（小幅な上昇）\n",
       "- **9月11日**: 8883円（再度下落）\n",
       "- **9月12日**: 9051円（上昇）\n",
       "- **9月13日**: 8982円（下落）\n",
       "- **9月17日**: 8750円（下落）\n",
       "- **9月18日**: 8795円（小幅な上昇）\n",
       "- **9月19日**: 8946円（上昇）\n",
       "\n",
       "### 分析\n",
       "- **初期の高値**: 9月3日に9910円に達し、その後は急激に下落を始めました。\n",
       "- **安値の状況**: 9月17日には8750円まで下がり、この期間中に数回の小幅な反発がありました。\n",
       "- **最終的な動き**: 9月19日に8946円まで回復し、若干の回復傾向が見られました。\n",
       "\n",
       "### 総括\n",
       "この期間中、株価は全体として不安定で、数回の高値からの急降下が見られました。初めに高値をつけた後、短期間での下落が続き、その後は多少の回復が見られましたが、全体としては慎重な投資環境かもしれません。市場の動向や外部要因も影響している可能性があるため、今後の動きに注意が必要です。"
      ],
      "text/plain": [
       "<IPython.core.display.Markdown object>"
      ]
     },
     "metadata": {},
     "output_type": "display_data"
    }
   ],
   "source": [
    "llm_agent('三井住友フィナンシャルグループの2024年9月の株価の動きを分析してください。')"
   ]
  },
  {
   "cell_type": "code",
   "execution_count": 9,
   "metadata": {},
   "outputs": [
    {
     "data": {
      "text/markdown": [
       "現在の東京の天気は、気温が約20.6度で、風速は7.9m/sです。風の向きは北（357度）です。天候は晴れています。もし他に知りたい情報があれば教えてください。"
      ],
      "text/plain": [
       "<IPython.core.display.Markdown object>"
      ]
     },
     "metadata": {},
     "output_type": "display_data"
    }
   ],
   "source": [
    "llm_agent('東京の天気を教えてください。')"
   ]
  },
  {
   "cell_type": "code",
   "execution_count": 10,
   "metadata": {},
   "outputs": [
    {
     "data": {
      "text/markdown": [
       "生成AIのビジネス活用に関する書籍をいくつかご紹介します：\n",
       "\n",
       "1. **60分でわかる!生成AIビジネス活用最前線**\n",
       "   - 著者: 技術評論社\n",
       "   - [書籍リンク](https://ci.nii.ac.jp/ncid/BD06441660)\n",
       "\n",
       "2. **ChatGPTビジネス活用アイディア事典 : 仕事の悩みを解決するプロンプトの決定版**\n",
       "   - 著者: SBクリエイティブ\n",
       "   - [書籍リンク](https://ci.nii.ac.jp/ncid/BD07710881)\n",
       "\n",
       "これらの書籍は、生成AIをビジネスでどのように活用できるかについて具体的なアイデアや実践的な情報を提供しています。興味がある方はぜひチェックしてみてください。"
      ],
      "text/plain": [
       "<IPython.core.display.Markdown object>"
      ]
     },
     "metadata": {},
     "output_type": "display_data"
    }
   ],
   "source": [
    "llm_agent('生成AIのビジネス活用に関する書籍を教えてください。')"
   ]
  },
  {
   "cell_type": "code",
   "execution_count": 11,
   "metadata": {},
   "outputs": [
    {
     "data": {
      "text/markdown": [
       "生成AIに関するリスクについての情報を以下にまとめます。\n",
       "\n",
       "1. **倫理的リスク**: 生成AIは、人間の倫理観に反するコンテンツを生成する可能性があります。これには、誤情報や偏見を含む情報が含まれる場合があります。\n",
       "\n",
       "2. **誤情報の拡散**: AIによって生成されたテキストや画像が、事実に基づいていない場合、これが誤情報として広まるリスクがあります。特に、偽のニュースや深層偽造（ディープフェイク）に利用される懸念があります。\n",
       "\n",
       "3. **プライバシーの侵害**: 生成AIが個人情報を使用したり、特定の個人を模倣したコンテンツを生成することで、プライバシーが侵害される可能性があります。\n",
       "\n",
       "4. **著作権問題**: 生成AIが他の作品を学習して生成を行うため、著作権侵害の問題も発生する可能性があります。特に、既存の著作物に類似した創作物が生成された場合、その取り扱いが問題視されることがあります。\n",
       "\n",
       "5. **自動化による雇用への影響**: 生成AIの進化が特定の職業に代わる可能性があり、人間の雇用に影響を与えるリスクがあります。\n",
       "\n",
       "6. **安全性の問題**: AIが生成したコンテンツが危険な行動を助長することや、悪意のある目的で利用される可能性もあります。\n",
       "\n",
       "これらのリスクは、生成AIの技術が進歩するにつれて、より重要になっていくと予想されます。適切な対策や規制が求められることが多く、研究や議論が進められています。"
      ],
      "text/plain": [
       "<IPython.core.display.Markdown object>"
      ]
     },
     "metadata": {},
     "output_type": "display_data"
    }
   ],
   "source": [
    "llm_agent('生成AIに関するリスクについてWikipediaの記事を参照してまとめてください。')"
   ]
  },
  {
   "cell_type": "code",
   "execution_count": null,
   "metadata": {},
   "outputs": [],
   "source": []
  }
 ],
 "metadata": {
  "kernelspec": {
   "display_name": "Python 3 (ipykernel)",
   "language": "python",
   "name": "python3"
  },
  "language_info": {
   "codemirror_mode": {
    "name": "ipython",
    "version": 3
   },
   "file_extension": ".py",
   "mimetype": "text/x-python",
   "name": "python",
   "nbconvert_exporter": "python",
   "pygments_lexer": "ipython3",
   "version": "3.11.9"
  }
 },
 "nbformat": 4,
 "nbformat_minor": 4
}
