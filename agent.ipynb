{
 "cells": [
  {
   "cell_type": "markdown",
   "metadata": {},
   "source": [
    "# Library"
   ]
  },
  {
   "cell_type": "code",
   "execution_count": 1,
   "metadata": {},
   "outputs": [],
   "source": [
    "# 標準ライブラリのインポート\n",
    "import os\n",
    "import json\n",
    "\n",
    "# サードパーティライブラリのインポート\n",
    "import requests\n",
    "from dotenv import load_dotenv\n",
    "import pandas_datareader.data as web \n",
    "import xml.etree.ElementTree as ET\n",
    "\n",
    "# LLM関連のインポート\n",
    "from openai import OpenAI\n",
    "\n",
    "# APIキーの設定\n",
    "load_dotenv() \n",
    "os.environ['OPENAI_API_KEY'] = os.getenv('OPENAI_API_KEY')\n",
    "\n",
    "# GPTモデルの設定\n",
    "model_name='gpt-4o-mini-2024-07-18' #'gpt-4o-2024-08-06'"
   ]
  },
  {
   "cell_type": "markdown",
   "metadata": {},
   "source": [
    "# 株価を取得する関数"
   ]
  },
  {
   "cell_type": "code",
   "execution_count": 2,
   "metadata": {},
   "outputs": [],
   "source": [
    "# DataReaderでstooqから株価情報を取得する関数を定義（開始日～終了日）\n",
    "def get_stock_price(code, date_from ,date_to):\n",
    "    # 日本用のコードに変換\n",
    "    code = code + '.JP'\n",
    "    # stooqからデータ取得\n",
    "    df = web.DataReader(code, data_source='stooq', start=date_from,end=date_to)\n",
    "    # 日付と株価の終値を返す ※日付形式がおかしくなるのでorient='table'を利用\n",
    "    return df['Close'].to_json(orient='table')\n",
    "\n",
    "def get_stock_price_range(arguments):\n",
    "    res = get_stock_price(\n",
    "        code = arguments.get('code'),\n",
    "        date_from = arguments.get('date_from'),\n",
    "        date_to = arguments.get('date_to')\n",
    "    )\n",
    "    return res"
   ]
  },
  {
   "cell_type": "markdown",
   "metadata": {},
   "source": [
    "# 天気を取得する関数"
   ]
  },
  {
   "cell_type": "code",
   "execution_count": 3,
   "metadata": {},
   "outputs": [],
   "source": [
    "# 天気情報を取得する関数を定義\n",
    "def get_info(latitude, longitude):\n",
    "    url = \"https://api.open-meteo.com/v1/forecast\"\n",
    "    parameters = {\n",
    "        \"latitude\": latitude,\n",
    "        \"longitude\": longitude,\n",
    "        \"current_weather\": \"true\"}\n",
    "    response = requests.get(url, params=parameters)\n",
    "\n",
    "    if response.status_code == 200:\n",
    "        data = response.json()\n",
    "        return json.dumps(data[\"current_weather\"])\n",
    "    else:\n",
    "        return None\n",
    "\n",
    "def get_weather_by_location(arguments):\n",
    "    res = get_info(\n",
    "        # 緯度と経度の情報 取得\n",
    "        latitude = arguments.get('latitude'),\n",
    "        longitude = arguments.get('longitude')\n",
    "    )\n",
    "    return res"
   ]
  },
  {
   "cell_type": "markdown",
   "metadata": {},
   "source": [
    "# 書籍情報を取得する関数"
   ]
  },
  {
   "cell_type": "code",
   "execution_count": 4,
   "metadata": {},
   "outputs": [],
   "source": [
    "# 書籍情報を取得する関数を定義\n",
    "def get_books(keyword):\n",
    "    url = \"https://ci.nii.ac.jp/books/opensearch/search\"\n",
    "    parameters = {\n",
    "        \"q\": keyword\n",
    "    }\n",
    "    response = requests.get(url, params=parameters)\n",
    "\n",
    "    if response.status_code == 200:\n",
    "        try:\n",
    "            # Parse the XML response\n",
    "            root = ET.fromstring(response.content)\n",
    "            \n",
    "            # Extract book titles and other relevant information\n",
    "            books = []\n",
    "            for entry in root.findall('{http://www.w3.org/2005/Atom}entry'):\n",
    "                title = entry.find('{http://www.w3.org/2005/Atom}title').text\n",
    "                link = entry.find('{http://www.w3.org/2005/Atom}link').attrib['href']\n",
    "                author = entry.find('{http://purl.org/dc/elements/1.1/}publisher').text if entry.find('{http://purl.org/dc/elements/1.1/}publisher') is not None else 'Unknown'\n",
    "                \n",
    "                books.append({\n",
    "                    \"title\": title,\n",
    "                    \"link\": link,\n",
    "                    \"author\": author\n",
    "                })\n",
    "            \n",
    "            return json.dumps(books, ensure_ascii=False)  # Ensure correct encoding for Japanese characters\n",
    "        except ET.ParseError as e:\n",
    "            st.error(\"Failed to parse XML. Error:\")\n",
    "            st.write(str(e))\n",
    "            return None\n",
    "    else:\n",
    "        st.error(f\"Error: {response.status_code}\")\n",
    "        st.write(response.text)\n",
    "        return None\n",
    "\n",
    "def get_books_by_keyword(arguments):\n",
    "    res = get_books(\n",
    "        keyword=arguments.get('keyword')\n",
    "    )\n",
    "    return res"
   ]
  },
  {
   "cell_type": "markdown",
   "metadata": {},
   "source": [
    "# Function callingの設定"
   ]
  },
  {
   "cell_type": "code",
   "execution_count": 5,
   "metadata": {},
   "outputs": [],
   "source": [
    "# 使用するツールのリスト\n",
    "tools = [\n",
    "    {\n",
    "        \"type\": \"function\",\n",
    "        \"function\": {\n",
    "            \"name\": \"get_stock_price_range\",  \n",
    "            \"description\": \"証券コードと2つの日付を渡すと指定の会社のその2つの日付の間の株価の終値を返します\",  \n",
    "            \"parameters\": {\n",
    "                \"type\": \"object\",\n",
    "                \"properties\": {\n",
    "                    \"code\": {\n",
    "                        \"type\": \"string\",\n",
    "                        \"description\": \"証券コード\",\n",
    "                    },\n",
    "                    \"date_from\": {\n",
    "                        \"type\": \"string\",\n",
    "                        \"description\": \"株価を知りたい日付の開始日\",\n",
    "                    },\n",
    "                    \"date_to\": {\n",
    "                        \"type\": \"string\",\n",
    "                        \"description\": \"株価を知りたい日付の終了日\",\n",
    "                    },\n",
    "                },\n",
    "                \"required\": [\"code\", \"date_from\", \"date_to\"],\n",
    "            },\n",
    "        },\n",
    "    },\n",
    "    {\n",
    "        \"type\": \"function\",\n",
    "        \"function\": {\n",
    "            \"name\": \"get_weather_by_location\",  \n",
    "            \"description\": \"緯度と経度の情報から現在と将来の天気を取得\",\n",
    "            \"parameters\": {\n",
    "                \"type\": \"object\",\n",
    "                \"properties\": {\n",
    "                    \"latitude\": {\n",
    "                        \"type\": \"string\",\n",
    "                        \"description\": \"緯度\",\n",
    "                    },\n",
    "                    \"longitude\": {\n",
    "                        \"type\": \"string\",\n",
    "                        \"description\": \"経度\",\n",
    "                    },\n",
    "                },\n",
    "                \"required\": [\"latitude\", \"longitude\"],\n",
    "            },\n",
    "        },\n",
    "    },\n",
    "    {\n",
    "        \"type\": \"function\",\n",
    "        \"function\": {\n",
    "            \"name\": \"get_books_by_keyword\",\n",
    "            \"description\": \"キーワードで書籍情報を検索し、関連する書籍情報を取得します\",\n",
    "            \"parameters\": {\n",
    "                \"type\": \"object\",\n",
    "                \"properties\": {\n",
    "                    \"keyword\": {\n",
    "                        \"type\": \"string\",\n",
    "                        \"description\": \"書籍情報を取得するための検索キーワード\",\n",
    "                    },\n",
    "                },\n",
    "                \"required\": [\"keyword\"],\n",
    "            },\n",
    "        },\n",
    "    },\n",
    "]"
   ]
  },
  {
   "cell_type": "markdown",
   "metadata": {},
   "source": [
    "# LLM"
   ]
  },
  {
   "cell_type": "code",
   "execution_count": 6,
   "metadata": {},
   "outputs": [],
   "source": [
    "def llm_agent(user_input):\n",
    "\n",
    "    client = OpenAI()\n",
    "\n",
    "    messages = [\n",
    "        {\"role\": \"system\", \"content\": \"You are a helpful assistant. Use the supplied tools to assist the user if needed.\"},\n",
    "        {\"role\": \"user\", \"content\": user_input}\n",
    "    ]\n",
    "\n",
    "    # ChatGPT API呼び出し\n",
    "    response = client.chat.completions.create(\n",
    "        model=model_name,\n",
    "        messages=messages,\n",
    "        tools=tools,\n",
    "        tool_choice='auto',\n",
    "    )\n",
    "\n",
    "    # ツール呼び出しの結果があるか確認\n",
    "    tool_calls = getattr(response.choices[0].message, 'tool_calls', None)  # tool_callsが存在しない場合はNone\n",
    "\n",
    "    if tool_calls:\n",
    "        for tool_call in tool_calls:\n",
    "            function_name = tool_call.function.name  # 属性としてアクセス\n",
    "            arguments = json.loads(tool_call.function.arguments)\n",
    "\n",
    "            # 関数の種類に基づいて処理を呼び出す\n",
    "            if function_name == 'get_stock_price_range':\n",
    "                function_response = get_stock_price_range(arguments)\n",
    "            elif function_name == 'get_weather_by_location':\n",
    "                function_response = get_weather_by_location(arguments)\n",
    "            elif function_name == 'get_books_by_keyword':\n",
    "                function_response = get_books_by_keyword(arguments)\n",
    "            else:\n",
    "                raise NotImplementedError(f\"Unknown function: {function_name}\")\n",
    "\n",
    "            # ツール呼び出しごとに適切に応答を作成\n",
    "            second_response = client.chat.completions.create(\n",
    "                model=model_name,\n",
    "                messages=[\n",
    "                    {'role': 'system', 'content': \"You are a helpful assistant.\"},\n",
    "                    {\"role\": \"user\", \"content\": user_input},\n",
    "                    {\"role\": \"assistant\", \"tool_call_id\": tool_call.id, \"content\": \"\"},  # 空文字列を設定\n",
    "                    {\n",
    "                        'role': 'function',\n",
    "                        'name': function_name,\n",
    "                        'content': str(function_response),\n",
    "                    },\n",
    "                ]\n",
    "            )\n",
    "            # 最終的な応答を表示\n",
    "            print(second_response.choices[0].message.content)\n",
    "    else:\n",
    "        # 関数が呼び出されていない場合、通常の応答を表示\n",
    "        print(response.choices[0].message.content)\n"
   ]
  },
  {
   "cell_type": "code",
   "execution_count": 7,
   "metadata": {},
   "outputs": [
    {
     "name": "stdout",
     "output_type": "stream",
     "text": [
      "三井住友フィナンシャルグループの2024年8月の株価は、月初から急激に変動しました。以下にその動きを分析します。\n",
      "\n",
      "### 2024年8月の株価の動き\n",
      "- **月初の株価**: 8月1日の株価は10,880円でした。\n",
      "- **中旬の下落**: 8月2日の株価は9,662円ですが、その後金額は急激に下がり、8月6日には8,000円まで落ち込みました。\n",
      "- **その後の回復**: 8月9日には8,968円、8月14日には9,397円と徐々に回復していきました。\n",
      "- **高値と低値の変動**: 最も高い株価は8月1日の10,880円であり、最も低い株価は8月6日の8,000円という大きな幅が見られました。\n",
      "- **月末の株価**: 8月30日の株価は9,550円で、上昇傾向にあることを示していますが、8月23日には9,889円に達したのち、再度価格が下がる動きが見られました。\n",
      "\n",
      "### 9月の見通し\n",
      "株価の変動を考慮すると、9月には以下の要因が影響する可能性があります。\n",
      "\n",
      "1. **経済指標の影響**: 日本国内や世界経済の動向に依存するものの、特に金融関連のニュースや経済指標（GDP、失業率、インフレ率など）に敏感に反応する可能性があります。\n",
      "2. **市場心理**: 8月の上昇と下落が混在していることから、市場参加者の心理が冷静さを欠くことも考えられます。リスク回避的な姿勢が強まると、売りが優先される可能性があります。\n",
      "3. **技術的なサポートラインとレジスタンス**: 9,000円から10,000円のレンジが今後の取引の重要な指標となります。この範囲の中で動きが続く場合、突破に向けたシグナルを投資家が探るでしょう。\n",
      "4. **外部要因**: 米国の金利政策や国際的な地政学的リスクも株価に影響を与える可能性があります。\n",
      "\n",
      "### 結論\n",
      "三井住友フィナンシャルグループの株価は、8月を通じてかなりのボラティリティが見られます。9月に入ると、経済指標の動向や市場心理に基づいてさらなる変動が予測されます。短期的には保守的な立場を取ることが重要であり、十分な情報収集を行いながら投資判断を行うことが推奨されます。\n",
      "三井住友フィナンシャルグループの2024年8月から9月の株価の動きについて分析します。\n",
      "\n",
      "### 2024年8月の株価動向\n",
      "2024年8月の株価の詳細は示されていませんが、9月の初めに関するデータから推測すると、株価は高い水準で推移していた可能性があります。具体的な価格を見るために、9月のデータを分析します。\n",
      "\n",
      "### 2024年9月の株価動向\n",
      "以下は2024年9月の株価データです：\n",
      "\n",
      "- 9月2日: 9597\n",
      "- 9月3日: 9910\n",
      "- 9月4日: 9415\n",
      "- 9月5日: 9324\n",
      "- 9月6日: 9180\n",
      "- 9月9日: 8990\n",
      "- 9月10日: 9036\n",
      "- 9月11日: 8883\n",
      "- 9月12日: 9051\n",
      "- 9月13日: 8982\n",
      "- 9月17日: 8750\n",
      "- 9月18日: 8795\n",
      "\n",
      "これを見て取れるトレンドは、初めは高めの水準から始まり、その後徐々に下落し、9月の中旬にはやや持ち直した様子が見受けられます。特に、9月3日に9910円と高い値をつけた後、9月6日には9180円、9月9日には8990円と急落しています。株価はその後も上昇の兆しを見せながらも、全体的には薄いボラティリティの範囲内での動きとなっています。\n",
      "\n",
      "### 2024年9月の見通し\n",
      "株価が一時的に高騰した後、調整に入っている動きが見受けられます。これにより、短期的な見通しとしては次のような要因が考慮できます：\n",
      "\n",
      "1. **市場の反応**: 国内外の経済指標や金融政策の発表に市場が敏感に反応しているため、株価の変動が続く可能性があります。\n",
      "2. **テクニカルな要因**: 9月中旬の株価が8795円で留まっていることから、もしかするとこの価格帯で短期的な支持線が形成されるかもしれません。\n",
      "3. **業績見通し**: 三井住友フィナンシャルグループの業績や今後の戦略に関わるニュース（例えば、融資方針の変更や新しい金融商品など）が影響する可能性があります。\n",
      "\n",
      "総じて、価格の下落が続いていた場合でも、8790円から9000円の間での横ばいが続く可能性があり、これを抜けてくれば再び上昇トレンドに転じるかもしれません。また、下落傾向にあるようであれば、次のサポートラインを意識する必要があります。投資家は関連するニュースや市場動向に注意を払い、柔軟に対応することが重要です。\n"
     ]
    }
   ],
   "source": [
    "llm_agent('三井住友フィナンシャルグループの2024年8月の株価の動きと、9月の見通しについて分析してください。')"
   ]
  },
  {
   "cell_type": "code",
   "execution_count": 8,
   "metadata": {},
   "outputs": [
    {
     "name": "stdout",
     "output_type": "stream",
     "text": [
      "現在の東京の天気は、以下の通りです：\n",
      "\n",
      "- **気温**: 25.0°C\n",
      "- **風速**: 2.2 m/s\n",
      "- **風向**: 東 (90°)\n",
      "\n",
      "昼間の時間帯ではなく、夜の時間帯です。晴れています。必要な情報がありましたら、お知らせください。\n"
     ]
    }
   ],
   "source": [
    "llm_agent('東京の天気を教えてください。')"
   ]
  },
  {
   "cell_type": "code",
   "execution_count": 9,
   "metadata": {},
   "outputs": [
    {
     "name": "stdout",
     "output_type": "stream",
     "text": [
      "以下は、生成AIに関する最新の書籍のリストです。興味のある書籍をクリックすると、詳細情報を確認できます。\n",
      "\n",
      "1. [生成AIの論点 : 学問・ビジネスからカルチャーまで](https://ci.nii.ac.jp/ncid/BD07157185) - 著者: 青弓社\n",
      "2. [生成AIパスポートテキスト&問題集 : GUGA公認](https://ci.nii.ac.jp/ncid/BD05525696) - 著者: 日本能率協会マネジメントセンター\n",
      "3. [生成AI法務・ガバナンス : 未来を形作る規範](https://ci.nii.ac.jp/ncid/BD07709099) - 著者: 商事法務\n",
      "4. [おとなもこどもも知りたい生成AIの教室](https://ci.nii.ac.jp/ncid/BD07706170) - 著者: カンゼン\n",
      "5. [ChatGPT&画像生成AI](https://ci.nii.ac.jp/ncid/BD03282753) - 著者: インプレス\n",
      "6. [Gemini完全マニュアル : Googleの対話型生成AI](https://ci.nii.ac.jp/ncid/BD07644528) - 著者: 秀和システム\n",
      "7. [つくりながら学ぶ!生成AIアプリ&エージェント開発入門](https://ci.nii.ac.jp/ncid/BD07898730) - 著者: マイナビ出版\n",
      "8. [AIで好きな絵をつくる!Stable Diffusion : 魔法の言葉、呪文(プロンプト)が満載!「画像生成AI」超入門](https://ci.nii.ac.jp/ncid/BD03703272) - 著者: 興陽館\n",
      "9. [60分でわかる!生成AIビジネス活用最前線](https://ci.nii.ac.jp/ncid/BD06441660) - 著者: 技術評論社\n",
      "10. [Open code interpreter自然言語生成AIコード開発](https://ci.nii.ac.jp/ncid/BD06990647) - 著者: [中山茂]\n",
      "11. [生成AI : 社会を激変させるAIの創造力 = Generative AI](https://ci.nii.ac.jp/ncid/BD02336755) - 著者: SBクリエイティブ\n",
      "12. [ChatGPT&生成AI : 倍速講義](https://ci.nii.ac.jp/ncid/BD04061705) - 著者: 日経BP\n",
      "13. [ChatGPT API : 生成AIプログラミング入門](https://ci.nii.ac.jp/ncid/BD02049196) - 著者: [出版者不明]\n",
      "14. [ビジネス・暮らしに活かせるChatGPT・生成AI活用アイデア大全](https://ci.nii.ac.jp/ncid/BD0507982X) - 著者: イースト・プレス\n",
      "15. [ITの仕事に就いたら「最低限」知っておきたい生成AIの常識](https://ci.nii.ac.jp/ncid/BD06536858) - 著者: ソシム\n",
      "16. [深層学習 : 生成AIの基礎](https://ci.nii.ac.jp/ncid/BD06160504) - 著者: 共立出版\n",
      "17. [ChatGPT&生成AI](https://ci.nii.ac.jp/ncid/BD04545698) - 著者: 日経BP\n",
      "18. [生成AIと知財・個人情報Q&A](https://ci.nii.ac.jp/ncid/BD07706024) - 著者: 商事法務\n",
      "19. [生成AI真の勝者 : 5つの覇権争いの行方](https://ci.nii.ac.jp/ncid/BD07160521) - 著者: 日経BP\n",
      "20. [手を動かして学ぶ生成AI使い方入門](https://ci.nii.ac.jp/ncid/BD07802618) - 著者: C&R研究所\n",
      "\n",
      "これらの書籍を参考にして、生成AIについての理解を深めていただければと思います。\n"
     ]
    }
   ],
   "source": [
    "llm_agent('生成AIに関する最新の書籍を教えてください。')"
   ]
  },
  {
   "cell_type": "code",
   "execution_count": 10,
   "metadata": {},
   "outputs": [
    {
     "name": "stdout",
     "output_type": "stream",
     "text": [
      "LLM（Large Language Model）は、大規模なテキストデータを用いて訓練された言語モデルです。これらのモデルは、自然言語処理（NLP）タスクを実行するために設計されており、人間の言語を理解し生成する能力を持っています。\n",
      "\n",
      "### 主な特徴\n",
      "\n",
      "1. **大規模なデータセット**: LLMは、インターネット上の文章、書籍、ニュース記事など、さまざまなソースから収集した膨大なテキストデータを使用して訓練されます。\n",
      "\n",
      "2. **自己教師あり学習**: トレーニング中、モデルはテキストの一部を隠し、何が隠されているかを予測するように訓練されます。この方法により、文脈を理解する能力が高まり、自然な言語生成が可能になります。\n",
      "\n",
      "3. **多様なタスク**: LLMは、文章生成、質問応答、要約、翻訳など、さまざまな自然言語処理のタスクに利用できます。\n",
      "\n",
      "4. **コンテキスト理解**: LLMは、与えられたテキストの文脈を理解し、それに基づいて適切な応答や情報を生成する能力を備えています。\n",
      "\n",
      "5. **ファインチューニング**: プリトレーニングされたモデルは、特定のタスクやドメインに合わせてファインチューニングされることがあります。これにより、特定のニーズに応じたパフォーマンスが向上します。\n",
      "\n",
      "### 使用例\n",
      "\n",
      "- **チャットボット**: カスタマーサポートや情報提供のために使用される。\n",
      "- **コンテンツ生成**: 記事やブログの自動作成に利用される。\n",
      "- **教育**: 質問応答や学習教材の作成に役立つ。\n",
      "\n",
      "### 代表的なモデル\n",
      "\n",
      "- **GPTシリーズ**: OpenAIが開発したGenerative Pre-trained Transformerのシリーズ。\n",
      "- **BERT**: Googleが開発したBidirectional Encoder Representations from Transformers。\n",
      "- **T5**: Text-to-Text Transfer Transformerとして知られるモデル。\n",
      "\n",
      "LLMはその能力の高さから、多くの分野で応用されており、今後も進化が期待されています。\n"
     ]
    }
   ],
   "source": [
    "llm_agent('LLMについて説明して下さい。')"
   ]
  }
 ],
 "metadata": {
  "kernelspec": {
   "display_name": "langchain",
   "language": "python",
   "name": "python3"
  },
  "language_info": {
   "codemirror_mode": {
    "name": "ipython",
    "version": 3
   },
   "file_extension": ".py",
   "mimetype": "text/x-python",
   "name": "python",
   "nbconvert_exporter": "python",
   "pygments_lexer": "ipython3",
   "version": "3.11.9"
  }
 },
 "nbformat": 4,
 "nbformat_minor": 2
}
