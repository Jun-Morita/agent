{
 "cells": [
  {
   "cell_type": "markdown",
   "metadata": {},
   "source": [
    "# Library"
   ]
  },
  {
   "cell_type": "code",
   "execution_count": 1,
   "metadata": {},
   "outputs": [],
   "source": [
    "# 標準ライブラリのインポート\n",
    "import os\n",
    "import json\n",
    "\n",
    "# サードパーティライブラリのインポート\n",
    "import requests\n",
    "from dotenv import load_dotenv\n",
    "import pandas_datareader.data as web \n",
    "\n",
    "# LLM関連のインポート\n",
    "from openai import OpenAI\n",
    "\n",
    "# APIキーの設定\n",
    "load_dotenv() \n",
    "os.environ['OPENAI_API_KEY'] = os.getenv('OPENAI_API_KEY')\n",
    "\n",
    "# GPTモデルの設定\n",
    "model_name='gpt-4o-mini-2024-07-18' #'gpt-4o-2024-08-06'"
   ]
  },
  {
   "cell_type": "markdown",
   "metadata": {},
   "source": [
    "# 株価を取得する関数"
   ]
  },
  {
   "cell_type": "code",
   "execution_count": 2,
   "metadata": {},
   "outputs": [],
   "source": [
    "# DataReaderでstooqから株価情報を取得する関数を定義（開始日～終了日）\n",
    "def get_stock_price(code, date_from ,date_to):\n",
    "    # 日本用のコードに変換\n",
    "    code = code + '.JP'\n",
    "    # stooqからデータ取得\n",
    "    df = web.DataReader(code, data_source='stooq', start=date_from,end=date_to)\n",
    "    # 日付と株価の終値を返す ※日付形式がおかしくなるのでorient='table'を利用\n",
    "    return df['Close'].to_json(orient='table')\n",
    "\n",
    "def get_stock_price_range(arguments):\n",
    "    res = get_stock_price(\n",
    "        code = arguments.get('code'),\n",
    "        date_from = arguments.get('date_from'),\n",
    "        date_to = arguments.get('date_to')\n",
    "    )\n",
    "    return res"
   ]
  },
  {
   "cell_type": "markdown",
   "metadata": {},
   "source": [
    "# 天気を取得する関数"
   ]
  },
  {
   "cell_type": "code",
   "execution_count": 3,
   "metadata": {},
   "outputs": [],
   "source": [
    "# 天気情報を取得する関数を定義\n",
    "def get_info(latitude, longitude):\n",
    "    url = \"https://api.open-meteo.com/v1/forecast\"\n",
    "    parameters = {\n",
    "        \"latitude\": latitude,\n",
    "        \"longitude\": longitude,\n",
    "        \"current_weather\": \"true\"}\n",
    "    response = requests.get(url, params=parameters)\n",
    "\n",
    "    if response.status_code == 200:\n",
    "        data = response.json()\n",
    "        return json.dumps(data[\"current_weather\"])\n",
    "    else:\n",
    "        return None\n",
    "\n",
    "def get_weather_by_location(arguments):\n",
    "    res = get_info(\n",
    "        # 緯度と経度の情報 取得\n",
    "        latitude = arguments.get('latitude'),\n",
    "        longitude = arguments.get('longitude')\n",
    "    )\n",
    "    return res"
   ]
  },
  {
   "cell_type": "markdown",
   "metadata": {},
   "source": [
    "# Function callingの設定"
   ]
  },
  {
   "cell_type": "code",
   "execution_count": 4,
   "metadata": {},
   "outputs": [],
   "source": [
    "# 使用するツールのリスト\n",
    "tools = [\n",
    "    {\n",
    "        \"type\": \"function\",\n",
    "        \"function\": {\n",
    "            \"name\": \"get_stock_price_range\",  \n",
    "            \"description\": \"証券コードと2つの日付を渡すと指定の会社のその2つの日付の間の株価の終値を返します\",  \n",
    "            \"parameters\": {\n",
    "                \"type\": \"object\",\n",
    "                \"properties\": {\n",
    "                    \"code\": {\n",
    "                        \"type\": \"string\",\n",
    "                        \"description\": \"証券コード\",\n",
    "                    },\n",
    "                    \"date_from\": {\n",
    "                        \"type\": \"string\",\n",
    "                        \"description\": \"株価を知りたい日付の開始日\",\n",
    "                    },\n",
    "                    \"date_to\": {\n",
    "                        \"type\": \"string\",\n",
    "                        \"description\": \"株価を知りたい日付の終了日\",\n",
    "                    },\n",
    "                },\n",
    "                \"required\": [\"code\", \"date_from\", \"date_to\"],\n",
    "            },\n",
    "        },\n",
    "    },\n",
    "    {\n",
    "        \"type\": \"function\",\n",
    "        \"function\": {\n",
    "            \"name\": \"get_weather_by_location\",  \n",
    "            \"description\": \"緯度と経度の情報から現在と将来の天気を取得\",\n",
    "            \"parameters\": {\n",
    "                \"type\": \"object\",\n",
    "                \"properties\": {\n",
    "                    \"latitude\": {\n",
    "                        \"type\": \"string\",\n",
    "                        \"description\": \"緯度\",\n",
    "                    },\n",
    "                    \"longitude\": {\n",
    "                        \"type\": \"string\",\n",
    "                        \"description\": \"経度\",\n",
    "                    },\n",
    "                },\n",
    "                \"required\": [\"latitude\", \"longitude\"],\n",
    "            },\n",
    "        },\n",
    "    }\n",
    "]"
   ]
  },
  {
   "cell_type": "markdown",
   "metadata": {},
   "source": [
    "# LLM"
   ]
  },
  {
   "cell_type": "code",
   "execution_count": 5,
   "metadata": {},
   "outputs": [],
   "source": [
    "def llm_agent(user_input):\n",
    "\n",
    "    client = OpenAI()\n",
    "\n",
    "    messages = [\n",
    "        {\"role\": \"system\", \"content\": \"You are a helpful assistant. Use the supplied tools to assist the user if needed.\"},\n",
    "        {\"role\": \"user\", \"content\": user_input}\n",
    "    ]\n",
    "\n",
    "    # ChatGPT API呼び出し\n",
    "    response = client.chat.completions.create(\n",
    "        model=model_name,\n",
    "        messages=messages,\n",
    "        tools=tools,\n",
    "        tool_choice='auto',\n",
    "    )\n",
    "\n",
    "    # ツール呼び出しの結果があるか確認\n",
    "    tool_calls = getattr(response.choices[0].message, 'tool_calls', None)  # tool_callsが存在しない場合はNone\n",
    "\n",
    "    if tool_calls:\n",
    "        for tool_call in tool_calls:\n",
    "            function_name = tool_call.function.name  # 属性としてアクセス\n",
    "            arguments = json.loads(tool_call.function.arguments)\n",
    "\n",
    "            # 関数の種類に基づいて処理を呼び出す\n",
    "            if function_name == 'get_stock_price_range':\n",
    "                function_response = get_stock_price_range(arguments)\n",
    "            elif function_name == 'get_weather_by_location':\n",
    "                function_response = get_weather_by_location(arguments)\n",
    "            else:\n",
    "                raise NotImplementedError(f\"Unknown function: {function_name}\")\n",
    "\n",
    "            # ツール呼び出しごとに適切に応答を作成\n",
    "            second_response = client.chat.completions.create(\n",
    "                model=model_name,\n",
    "                messages=[\n",
    "                    {'role': 'system', 'content': \"You are a helpful assistant.\"},\n",
    "                    {\"role\": \"user\", \"content\": user_input},\n",
    "                    {\"role\": \"assistant\", \"tool_call_id\": tool_call.id, \"content\": \"\"},  # 空文字列を設定\n",
    "                    {\n",
    "                        'role': 'function',\n",
    "                        'name': function_name,\n",
    "                        'content': str(function_response),\n",
    "                    },\n",
    "                ]\n",
    "            )\n",
    "            # 最終的な応答を表示\n",
    "            print(second_response.choices[0].message.content)\n",
    "    else:\n",
    "        # 関数が呼び出されていない場合、通常の応答を表示\n",
    "        print(response.choices[0].message.content)\n"
   ]
  },
  {
   "cell_type": "code",
   "execution_count": 6,
   "metadata": {},
   "outputs": [
    {
     "name": "stdout",
     "output_type": "stream",
     "text": [
      "三井住友フィナンシャルグループ（SMFG）の2024年8月の株価の動きを分析すると、以下のようなトレンドが見られます。\n",
      "\n",
      "### 2024年8月の株価動向\n",
      "\n",
      "- **月初（8月1日）**: 10880円からスタートし、高値を記録しました。\n",
      "- **中旬（8月15日頃）**: 9699円に下がり、そこから急落が見られました。\n",
      "- **下旬（8月28日頃）**: 9604円まで回復するも、最終的には9550円で取引を終えました。\n",
      "- **全体の傾向**: この月は8月1日から中旬にかけての高値と、15日以降の急激な下落が特徴的でした。特に、8月8日の8647円という安値が特筆されます。その後の回復は見られましたが、8月の終わりは高値からかなりの下落がありました。\n",
      "\n",
      "### 9月の見通し\n",
      "\n",
      "- **テクニカル分析**: 株価が大きく動いた後の動きは、特にサポートラインがどこにあるかがポイントになります。9550円の水準がサポートとして機能するかどうかが注目されます。\n",
      "- **市場環境**: 米国の金利動向や国際情勢（特にアジア市場との関連）など、外的要因が影響する可能性があります。特に金融株にとっては金利が重要ですので、今後の金融政策の動向には注意が必要です。\n",
      "- **企業の業績と展望**: もしも三井住友フィナンシャルグループが良好な業績を発表するようであれば、9500円台からの回復が見込めるかもしれません。一方で、経済指標の悪化や予想を下回る決算があれば再度の売り圧力が強まる可能性があります。\n",
      "\n",
      "### 結論\n",
      "\n",
      "9月における三井住友フィナンシャルグループの株価は、9550円付近を中心に上下する可能性が高いと考えられます。サポートラインを維持できれば回復の兆しが見える一方、下方向への圧力が強まるようであればさらなる下落も考慮する必要があります。市場の動向や外的要因をしっかりと観察しつつ、投資判断を行うことが重要です。\n",
      "三井住友フィナンシャルグループの2024年9月中旬までの株価の動きから分析を行います。\n",
      "\n",
      "### 2024年8月の株価の動き\n",
      "2024年8月の具体的な株価データが提供されていないため、ここでは2024年9月の初旬から中旬での株価の変動を見て、その背景を考察します。\n",
      "\n",
      "### 2024年9月の初旬株価動向\n",
      "- **9月2日**: 9597円\n",
      "- **9月3日**: 9910円\n",
      "- **9月4日**: 9415円\n",
      "- **9月5日**: 9324円\n",
      "- **9月6日**: 9180円\n",
      "\n",
      "初旬では、9月3日に一時9910円を記録した後、徐々に下落し、9月6日には9180円となりました。この動きからは、短期間での価格の上下動が見受けられ、特に9月3日の高値がその後の下落の起点となっています。\n",
      "\n",
      "### 2024年9月中旬株価動向\n",
      "- **9月10日**: 9036円\n",
      "- **9月11日**: 8883円\n",
      "- **9月12日**: 9051円\n",
      "- **9月13日**: 8982円\n",
      "- **9月17日**: 8750円\n",
      "\n",
      "中旬にかけて、株価はさらなる低下傾向が見られ、9月17日には8750円まで落ち込みました。これは継続した売り圧力や投資家のセンチメントが影響している可能性があります。\n",
      "\n",
      "### 分析と見通し\n",
      "1. **市場環境**: 国内外の経済指標、金融政策の変更、株式市場全体の動向などが影響を与えています。特にインフレ率や金利政策が注目される時期であり、それが株価に及ぼす影響は大きいです。\n",
      "\n",
      "2. **業績**: 三井住友フィナンシャルグループの業績発表や将来の見通しが、市場における評価に影響を及ぼす要因です。特に金融セクターは金利の動きによる影響を強く受けるため、今後の業績見通しが重要になります。\n",
      "\n",
      "3. **投資家センチメント**: 投資家がリスク回避の姿勢を見せている場合、株価が下落する傾向があります。最近の株価の下落は、そうしたセンチメントを反映している可能性があります。\n",
      "\n",
      "### 2024年9月の見通し\n",
      "株価が8750円まで下がった現状から、短期的にはさらなる下落のリスクがあります。一方で、重要なサポートラインを保つことができれば、反発の兆しも見えるかもしれません。投資家は、社内のニュースやマクロ経済の動向を注意深く観察することが重要です。\n",
      "\n",
      "以上の要素を考慮した上で、今後の株価の動きに注目し、取引の判断を行うことが求められます。\n"
     ]
    }
   ],
   "source": [
    "llm_agent('三井住友フィナンシャルグループの2024年8月の株価の動きと、9月の見通しについて分析してください。')"
   ]
  },
  {
   "cell_type": "code",
   "execution_count": 7,
   "metadata": {},
   "outputs": [
    {
     "name": "stdout",
     "output_type": "stream",
     "text": [
      "現在の東京の天気は、気温25.8℃、風速3.3m/s（風向き311°）です。天候は晴れています。昼間ではなく、夜の時間帯です。何か他に知りたいことがあれば教えてください！\n"
     ]
    }
   ],
   "source": [
    "llm_agent('東京の天気を教えてください。')"
   ]
  },
  {
   "cell_type": "code",
   "execution_count": 8,
   "metadata": {},
   "outputs": [
    {
     "name": "stdout",
     "output_type": "stream",
     "text": [
      "LLMとは「大規模言語モデル（Large Language Model）」の略で、自然言語処理（NLP）分野で使用される人工知能（AI）の一種です。LLMは膨大な量のテキストデータを用いて訓練され、言語の構造や文脈を理解し、自然な言語生成を行う能力を持っています。\n",
      "\n",
      "以下はLLMの特徴と機能についての詳細です。\n",
      "\n",
      "1. **大量のデータで訓練**: LLMは数ギガバイトからテラバイト規模のテキストデータを使用して訓練されます。これにより、さまざまな文脈やトピックについて理解する能力が向上します。\n",
      "\n",
      "2. **自己教師あり学習**: LLMは自己教師あり学習の手法を使用してリアルな文脈を学習します。例えば、次の単語を予測する作業を通じて、言葉の関連性や文の構造を学びます。\n",
      "\n",
      "3. **自然言語生成**: 訓練されたLLMは、人間が自然に書いたようなテキストを生成することができます。これには、文章の作成、質問への応答、要約などが含まれます。\n",
      "\n",
      "4. **多用途性**: LLMはさまざまなタスクに応用できます。例えば、翻訳、対話システム、情報検索、文書要約、文法チェックなどがあります。\n",
      "\n",
      "5. **コンテキスト理解**: LLMは文脈を考慮に入れて、特定の状況や意図に基づいた応答を生成します。これにより、より人間らしい応答が可能になります。\n",
      "\n",
      "6. **フィードバックループ**: 実際の使用から学習し、継続的にパフォーマンスを改善するためのフィードバックループを構築することも可能です。\n",
      "\n",
      "代表的なLLMには、OpenAIのGPTシリーズ、GoogleのBERTやT5、MetaのLLaMAなどがあります。これらのモデルは、商業利用や研究の分野で広く活用されています。\n"
     ]
    }
   ],
   "source": [
    "llm_agent('LLMについて説明して下さい。')"
   ]
  }
 ],
 "metadata": {
  "kernelspec": {
   "display_name": "langchain",
   "language": "python",
   "name": "python3"
  },
  "language_info": {
   "codemirror_mode": {
    "name": "ipython",
    "version": 3
   },
   "file_extension": ".py",
   "mimetype": "text/x-python",
   "name": "python",
   "nbconvert_exporter": "python",
   "pygments_lexer": "ipython3",
   "version": "3.11.9"
  }
 },
 "nbformat": 4,
 "nbformat_minor": 2
}
