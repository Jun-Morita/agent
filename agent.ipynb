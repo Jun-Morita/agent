{
 "cells": [
  {
   "cell_type": "markdown",
   "metadata": {},
   "source": [
    "# Library"
   ]
  },
  {
   "cell_type": "code",
   "execution_count": 1,
   "metadata": {},
   "outputs": [],
   "source": [
    "# 標準ライブラリのインポート\n",
    "import os\n",
    "import json\n",
    "\n",
    "# サードパーティライブラリのインポート\n",
    "import requests\n",
    "from dotenv import load_dotenv\n",
    "import pandas_datareader.data as web \n",
    "import xml.etree.ElementTree as ET\n",
    "\n",
    "# LLM関連のインポート\n",
    "from openai import OpenAI\n",
    "\n",
    "# APIキーの設定\n",
    "load_dotenv() \n",
    "os.environ['OPENAI_API_KEY'] = os.getenv('OPENAI_API_KEY')\n",
    "\n",
    "# GPTモデルの設定\n",
    "model_name='gpt-4o-mini-2024-07-18' #'gpt-4o-2024-08-06'"
   ]
  },
  {
   "cell_type": "markdown",
   "metadata": {},
   "source": [
    "# 株価を取得する関数"
   ]
  },
  {
   "cell_type": "code",
   "execution_count": 2,
   "metadata": {},
   "outputs": [],
   "source": [
    "# DataReaderでstooqから株価情報を取得する関数を定義（開始日～終了日）\n",
    "def get_stock_price(code, date_from ,date_to):\n",
    "    # 日本用のコードに変換\n",
    "    code = code + '.JP'\n",
    "    # stooqからデータ取得\n",
    "    df = web.DataReader(code, data_source='stooq', start=date_from,end=date_to)\n",
    "    # 日付と株価の終値を返す ※日付形式がおかしくなるのでorient='table'を利用\n",
    "    return df['Close'].to_json(orient='table')\n",
    "\n",
    "def get_stock_price_range(arguments):\n",
    "    res = get_stock_price(\n",
    "        code = arguments.get('code'),\n",
    "        date_from = arguments.get('date_from'),\n",
    "        date_to = arguments.get('date_to')\n",
    "    )\n",
    "    return res"
   ]
  },
  {
   "cell_type": "markdown",
   "metadata": {},
   "source": [
    "# 天気を取得する関数"
   ]
  },
  {
   "cell_type": "code",
   "execution_count": 3,
   "metadata": {},
   "outputs": [],
   "source": [
    "# 天気情報を取得する関数を定義\n",
    "def get_info(latitude, longitude):\n",
    "    url = \"https://api.open-meteo.com/v1/forecast\"\n",
    "    parameters = {\n",
    "        \"latitude\": latitude,\n",
    "        \"longitude\": longitude,\n",
    "        \"current_weather\": \"true\"}\n",
    "    response = requests.get(url, params=parameters)\n",
    "\n",
    "    if response.status_code == 200:\n",
    "        data = response.json()\n",
    "        return json.dumps(data[\"current_weather\"])\n",
    "    else:\n",
    "        return None\n",
    "\n",
    "def get_weather_by_location(arguments):\n",
    "    res = get_info(\n",
    "        # 緯度と経度の情報 取得\n",
    "        latitude = arguments.get('latitude'),\n",
    "        longitude = arguments.get('longitude')\n",
    "    )\n",
    "    return res"
   ]
  },
  {
   "cell_type": "markdown",
   "metadata": {},
   "source": [
    "# 書籍情報を取得する関数"
   ]
  },
  {
   "cell_type": "code",
   "execution_count": 4,
   "metadata": {},
   "outputs": [],
   "source": [
    "# 書籍情報を取得する関数を定義\n",
    "def get_books(keyword):\n",
    "    url = \"https://ci.nii.ac.jp/books/opensearch/search\"\n",
    "    parameters = {\n",
    "        \"q\": keyword\n",
    "    }\n",
    "    response = requests.get(url, params=parameters)\n",
    "\n",
    "    if response.status_code == 200:\n",
    "        try:\n",
    "            # Parse the XML response\n",
    "            root = ET.fromstring(response.content)\n",
    "            \n",
    "            # Extract book titles and other relevant information\n",
    "            books = []\n",
    "            for entry in root.findall('{http://www.w3.org/2005/Atom}entry'):\n",
    "                title = entry.find('{http://www.w3.org/2005/Atom}title').text\n",
    "                link = entry.find('{http://www.w3.org/2005/Atom}link').attrib['href']\n",
    "                author = entry.find('{http://purl.org/dc/elements/1.1/}publisher').text if entry.find('{http://purl.org/dc/elements/1.1/}publisher') is not None else 'Unknown'\n",
    "                \n",
    "                books.append({\n",
    "                    \"title\": title,\n",
    "                    \"link\": link,\n",
    "                    \"author\": author\n",
    "                })\n",
    "            \n",
    "            return json.dumps(books, ensure_ascii=False)  # Ensure correct encoding for Japanese characters\n",
    "        except ET.ParseError as e:\n",
    "            st.error(\"Failed to parse XML. Error:\")\n",
    "            st.write(str(e))\n",
    "            return None\n",
    "    else:\n",
    "        st.error(f\"Error: {response.status_code}\")\n",
    "        st.write(response.text)\n",
    "        return None\n",
    "\n",
    "def get_books_by_keyword(arguments):\n",
    "    res = get_books(\n",
    "        keyword=arguments.get('keyword')\n",
    "    )\n",
    "    return res"
   ]
  },
  {
   "cell_type": "markdown",
   "metadata": {},
   "source": [
    "# Wikipedia情報を取得する関数を定義"
   ]
  },
  {
   "cell_type": "code",
   "execution_count": 5,
   "metadata": {},
   "outputs": [],
   "source": [
    "# Wikipedia情報を取得する関数を定義\n",
    "def get_wikipedia_info(keyword):\n",
    "    url = f\"https://ja.wikipedia.org/w/api.php\"\n",
    "    parameters = {\n",
    "        \"action\": \"query\",\n",
    "        \"format\": \"json\",\n",
    "        \"prop\": \"extracts\",\n",
    "        \"exintro\": True,\n",
    "        \"explaintext\": True,\n",
    "        \"titles\": keyword\n",
    "    }\n",
    "    response = requests.get(url, params=parameters)\n",
    "\n",
    "    if response.status_code == 200:\n",
    "        data = response.json()\n",
    "        pages = data[\"query\"][\"pages\"]\n",
    "        page_id = next(iter(pages))\n",
    "        if page_id != \"-1\":\n",
    "            return pages[page_id][\"extract\"]\n",
    "        else:\n",
    "            return \"Wikipedia page not found for the keyword.\"\n",
    "    else:\n",
    "        return f\"Error: {response.status_code}\"\n",
    "\n",
    "def get_wikipedia_by_keyword(arguments):\n",
    "    res = get_wikipedia_info(\n",
    "        keyword=arguments.get('keyword')\n",
    "    )\n",
    "    return res"
   ]
  },
  {
   "cell_type": "markdown",
   "metadata": {},
   "source": [
    "# Function callingの設定"
   ]
  },
  {
   "cell_type": "code",
   "execution_count": 6,
   "metadata": {},
   "outputs": [],
   "source": [
    "# 使用するツールのリスト\n",
    "tools = [\n",
    "    {\n",
    "        \"type\": \"function\",\n",
    "        \"function\": {\n",
    "            \"name\": \"get_stock_price_range\",  \n",
    "            \"description\": \"証券コードと2つの日付を渡すと指定の会社のその2つの日付の間の株価の終値を返します\",  \n",
    "            \"parameters\": {\n",
    "                \"type\": \"object\",\n",
    "                \"properties\": {\n",
    "                    \"code\": {\n",
    "                        \"type\": \"string\",\n",
    "                        \"description\": \"証券コード\",\n",
    "                    },\n",
    "                    \"date_from\": {\n",
    "                        \"type\": \"string\",\n",
    "                        \"description\": \"株価を知りたい日付の開始日\",\n",
    "                    },\n",
    "                    \"date_to\": {\n",
    "                        \"type\": \"string\",\n",
    "                        \"description\": \"株価を知りたい日付の終了日\",\n",
    "                    },\n",
    "                },\n",
    "                \"required\": [\"code\", \"date_from\", \"date_to\"],\n",
    "            },\n",
    "        },\n",
    "    },\n",
    "    {\n",
    "        \"type\": \"function\",\n",
    "        \"function\": {\n",
    "            \"name\": \"get_weather_by_location\",  \n",
    "            \"description\": \"緯度と経度の情報から現在と将来の天気を取得\",\n",
    "            \"parameters\": {\n",
    "                \"type\": \"object\",\n",
    "                \"properties\": {\n",
    "                    \"latitude\": {\n",
    "                        \"type\": \"string\",\n",
    "                        \"description\": \"緯度\",\n",
    "                    },\n",
    "                    \"longitude\": {\n",
    "                        \"type\": \"string\",\n",
    "                        \"description\": \"経度\",\n",
    "                    },\n",
    "                },\n",
    "                \"required\": [\"latitude\", \"longitude\"],\n",
    "            },\n",
    "        },\n",
    "    },\n",
    "    {\n",
    "        \"type\": \"function\",\n",
    "        \"function\": {\n",
    "            \"name\": \"get_books_by_keyword\",\n",
    "            \"description\": \"キーワードで書籍情報を検索し、関連する書籍情報を取得します\",\n",
    "            \"parameters\": {\n",
    "                \"type\": \"object\",\n",
    "                \"properties\": {\n",
    "                    \"keyword\": {\n",
    "                        \"type\": \"string\",\n",
    "                        \"description\": \"書籍情報を取得するための検索キーワード\",\n",
    "                    },\n",
    "                },\n",
    "                \"required\": [\"keyword\"],\n",
    "            },\n",
    "        },\n",
    "    },\n",
    "    {\n",
    "        \"type\": \"function\",\n",
    "        \"function\": {\n",
    "            \"name\": \"get_wikipedia_by_keyword\",\n",
    "            \"description\": \"キーワードで日本語Wikipediaから情報を取得します\",\n",
    "            \"parameters\": {\n",
    "                \"type\": \"object\",\n",
    "                \"properties\": {\n",
    "                    \"keyword\": {\n",
    "                        \"type\": \"string\",\n",
    "                        \"description\": \"Wikipediaで情報を取得するための検索キーワード\",\n",
    "                    },\n",
    "                },\n",
    "                \"required\": [\"keyword\"],\n",
    "            },\n",
    "        },\n",
    "    },\n",
    "]"
   ]
  },
  {
   "cell_type": "markdown",
   "metadata": {},
   "source": [
    "# LLM"
   ]
  },
  {
   "cell_type": "code",
   "execution_count": 7,
   "metadata": {},
   "outputs": [],
   "source": [
    "def llm_agent(user_input):\n",
    "\n",
    "    client = OpenAI()\n",
    "\n",
    "    messages = [\n",
    "        {\"role\": \"system\", \"content\": \"You are a helpful assistant. Use the supplied tools to assist the user if needed.\"},\n",
    "        {\"role\": \"user\", \"content\": user_input}\n",
    "    ]\n",
    "\n",
    "    # ChatGPT API呼び出し\n",
    "    response = client.chat.completions.create(\n",
    "        model=model_name,\n",
    "        messages=messages,\n",
    "        tools=tools,\n",
    "        tool_choice='auto',\n",
    "    )\n",
    "\n",
    "    # ツール呼び出しの結果があるか確認\n",
    "    tool_calls = getattr(response.choices[0].message, 'tool_calls', None)  # tool_callsが存在しない場合はNone\n",
    "\n",
    "    if tool_calls:\n",
    "        for tool_call in tool_calls:\n",
    "            function_name = tool_call.function.name  # 属性としてアクセス\n",
    "            arguments = json.loads(tool_call.function.arguments)\n",
    "\n",
    "            # 関数の種類に基づいて処理を呼び出す\n",
    "            if function_name == 'get_stock_price_range':\n",
    "                function_response = get_stock_price_range(arguments)\n",
    "            elif function_name == 'get_weather_by_location':\n",
    "                function_response = get_weather_by_location(arguments)\n",
    "            elif function_name == 'get_books_by_keyword':\n",
    "                function_response = get_books_by_keyword(arguments)\n",
    "            elif function_name == 'get_wikipedia_by_keyword':\n",
    "                function_response = get_wikipedia_by_keyword(arguments)\n",
    "            else:\n",
    "                raise NotImplementedError(f\"Unknown function: {function_name}\")\n",
    "\n",
    "            # ツール呼び出しごとに適切に応答を作成\n",
    "            second_response = client.chat.completions.create(\n",
    "                model=model_name,\n",
    "                messages=[\n",
    "                    {'role': 'system', 'content': \"You are a helpful assistant.\"},\n",
    "                    {\"role\": \"user\", \"content\": user_input},\n",
    "                    {\"role\": \"assistant\", \"tool_call_id\": tool_call.id, \"content\": \"\"},  # 空文字列を設定\n",
    "                    {\n",
    "                        'role': 'function',\n",
    "                        'name': function_name,\n",
    "                        'content': str(function_response),\n",
    "                    },\n",
    "                ]\n",
    "            )\n",
    "            # 最終的な応答を表示\n",
    "            print(second_response.choices[0].message.content)\n",
    "    else:\n",
    "        # 関数が呼び出されていない場合、通常の応答を表示\n",
    "        print(response.choices[0].message.content)\n"
   ]
  },
  {
   "cell_type": "code",
   "execution_count": 8,
   "metadata": {},
   "outputs": [
    {
     "name": "stdout",
     "output_type": "stream",
     "text": [
      "2024年8月の三井住友フィナンシャルグループの株価動向を分析すると、月初めから中旬にかけては大きな変動が見られました。具体的には、8月1日には10,880円という高値を記録した後、8月6日には8,000円まで急落しました。この急落の背景には、経済指標の発表や市場全体のセンチメントの変化が影響した可能性があります。\n",
      "\n",
      "その後の動きでは、8月15日に9,699円、8月19日に10,040円といった上昇が見られたものの、再び8月23日には9,889円にまで下落し、一時的に9,000円台後半での推移が続きました。8月26日以降徐々に回復し、最終的には8月30日に9,550円で取引を終えています。\n",
      "\n",
      "### 9月の展望\n",
      "\n",
      "9月の株価見通しに関しては、以下のポイントが考えられます。\n",
      "\n",
      "1. **経済指標の発表**: 9月には日本国内の経済指標（GDP、消費者信頼感指数など）が発表される予定です。それらの結果が株価に影響を与える可能性があります。特に、金融政策に関連する指標が注目されます。\n",
      "\n",
      "2. **国内外の経済動向**: 世界経済、特にアメリカの利上げやインフレ動向は、投資家心理に影響を与えるでしょう。特に金融株は金利の影響を強く受けるため、利上げの可能性が高ければ、株価にプラスの影響を与えることも考えられます。\n",
      "\n",
      "3. **テクニカル分析**: 現在の株価（9,550円）が、上昇トレンドに戻すことができるのかが注目されます。もし9,800円を超えてくるようであれば、更なる上昇が期待できるでしょう。\n",
      "\n",
      "4. **市場全体のセンチメント**: 投資家の心理や他業種の動向も、三井住友フィナンシャルグループの株価に影響を与える要素となります。特に、金融システムの安定性やリスクへの感受性が高まる状況が続けば、慎重な動きが強まる可能性があります。\n",
      "\n",
      "以上の要因を考慮しながら、9月の動きに注視したいと思います。引き続き市場の動向や経済指標に敏感に反応し、適切な投資判断を行うことが重要です。\n",
      "三井住友フィナンシャルグループ（SMFG）の2024年8月および9月の株価動向を分析します。\n",
      "\n",
      "### 2024年8月の株価動向\n",
      "2024年8月の株価については具体的なデータが提供されていないため、一般的な市場の動きや経済状況を考慮する必要があります。この期間、国内外の経済指標や金利の動向、業界のニュースなどが株価に影響を与えている可能性があります。\n",
      "\n",
      "### 2024年9月の株価動向\n",
      "提供された最新の株価データを基にすると、9月初旬から中旬にかけての株価は以下のように推移しています。\n",
      "\n",
      "- 9月2日の株価: 9597円\n",
      "- 9月3日: 9910円（急上昇）\n",
      "- その後、9月4日からは減少傾向が始まり、9月18日現在では8795円まで下落しています。\n",
      "\n",
      "##### 株価の分析\n",
      "- **急上昇と急落**: 9月の初めには株価が非常に高い水準に達しており、その後の急激な下落が見られます。この急上昇は何らかのポジティブなニュースや経済指標によるものである可能性があります。\n",
      "- **市場の影響**: 経済全体や金融政策の影響を受けて、株価は変動しやすい点も考慮する必要があります。中央銀行の政策金利や国際情勢なども影響を与えているでしょう。\n",
      "\n",
      "### 2024年9月の見通し\n",
      "- **テクニカル分析**: 直近の下落が続く場合、心理的なサポートラインを意識する投資家が増えるかもしれません。8795円付近がサポートとなるか、それともさらなる下落に繋がるのかが焦点です。\n",
      "- **ファンダメンタルズ**: 企業の決算発表や経済指標の発表も控えている場合、今後の発表次第で株価に変動があるでしょう。特に、金融業界の動向や国内外の経済見通しに注目が集まるでしょう。\n",
      "\n",
      "### 結論\n",
      "短期的には、9月中旬の株価は下落気味ですが、今後の市場状況や企業の発表によって大きく変わる可能性があります。投資家は、これらの要因を注視しながらトレードを行うことが重要です。\n"
     ]
    }
   ],
   "source": [
    "llm_agent('三井住友フィナンシャルグループの2024年8月の株価の動きと、9月の見通しについて分析してください。')"
   ]
  },
  {
   "cell_type": "code",
   "execution_count": 9,
   "metadata": {},
   "outputs": [
    {
     "name": "stdout",
     "output_type": "stream",
     "text": [
      "現在の東京の天気は次の通りです：\n",
      "\n",
      "- **気温**: 25.0°C\n",
      "- **風速**: 2.1 m/s\n",
      "- **風向き**: 121°（南東）\n",
      "- **天候**: 快晴\n",
      "\n",
      "もし今後の天気予報や詳細が必要であれば教えてください。\n"
     ]
    }
   ],
   "source": [
    "llm_agent('東京の天気を教えてください。')"
   ]
  },
  {
   "cell_type": "code",
   "execution_count": 10,
   "metadata": {},
   "outputs": [
    {
     "name": "stdout",
     "output_type": "stream",
     "text": [
      "以下は、最近出版された生成AIに関する書籍の一覧です。各書籍のリンクも合わせて掲載していますので、興味のあるものをぜひご覧ください。\n",
      "\n",
      "1. [生成AIの論点 : 学問・ビジネスからカルチャーまで](https://ci.nii.ac.jp/ncid/BD07157185) - 青弓社\n",
      "2. [生成AIパスポートテキスト&問題集 : GUGA公認](https://ci.nii.ac.jp/ncid/BD05525696) - 日本能率協会マネジメントセンター\n",
      "3. [生成AI法務・ガバナンス : 未来を形作る規範](https://ci.nii.ac.jp/ncid/BD07709099) - 商事法務\n",
      "4. [おとなもこどもも知りたい生成AIの教室](https://ci.nii.ac.jp/ncid/BD07706170) - カンゼン\n",
      "5. [ChatGPT&画像生成AI](https://ci.nii.ac.jp/ncid/BD03282753) - インプレス\n",
      "6. [Gemini完全マニュアル : Googleの対話型生成AI](https://ci.nii.ac.jp/ncid/BD07644528) - 秀和システム\n",
      "7. [つくりながら学ぶ!生成AIアプリ&エージェント開発入門](https://ci.nii.ac.jp/ncid/BD07898730) - マイナビ出版\n",
      "8. [AIで好きな絵をつくる!Stable Diffusion : 魔法の言葉、呪文(プロンプト)が満載!「画像生成AI」超入門](https://ci.nii.ac.jp/ncid/BD03703272) - 興陽館\n",
      "9. [60分でわかる!生成AIビジネス活用最前線](https://ci.nii.ac.jp/ncid/BD06441660) - 技術評論社\n",
      "10. [Open code interpreter自然言語生成AIコード開発](https://ci.nii.ac.jp/ncid/BD06990647) - [中山茂]\n",
      "11. [生成AI : 社会を激変させるAIの創造力 = Generative AI](https://ci.nii.ac.jp/ncid/BD02336755) - SBクリエイティブ\n",
      "12. [ChatGPT&生成AI : 倍速講義](https://ci.nii.ac.jp/ncid/BD04061705) - 日経BP\n",
      "13. [ChatGPT API : 生成AIプログラミング入門](https://ci.nii.ac.jp/ncid/BD02049196) - [出版者不明]\n",
      "14. [ビジネス・暮らしに活かせるChatGPT・生成AI活用アイデア大全](https://ci.nii.ac.jp/ncid/BD0507982X) - イースト・プレス\n",
      "15. [ITの仕事に就いたら「最低限」知っておきたい生成AIの常識 : LLM、マルチモーダル、生成AI規制など基本キーワードから読み解く!](https://ci.nii.ac.jp/ncid/BD06536858) - ソシム\n",
      "16. [深層学習 : 生成AIの基礎](https://ci.nii.ac.jp/ncid/BD06160504) - 共立出版\n",
      "17. [ChatGPT&生成AI](https://ci.nii.ac.jp/ncid/BD04545698) - 日経BP\n",
      "18. [生成AIと知財・個人情報Q&A](https://ci.nii.ac.jp/ncid/BD07706024) - 商事法務\n",
      "19. [生成AI真の勝者 : 5つの覇権争いの行方 = Generative AI : the true winners and losers](https://ci.nii.ac.jp/ncid/BD07160521) - 日経BP\n",
      "20. [手を動かして学ぶ生成AI使い方入門](https://ci.nii.ac.jp/ncid/BD07802618) - C&R研究所\n",
      "\n",
      "これらの書籍は、生成AIのさまざまな側面について詳細に解説しており、興味深い内容が盛りだくさんです。\n"
     ]
    }
   ],
   "source": [
    "llm_agent('生成AIに関する最新の書籍を教えてください。')"
   ]
  },
  {
   "cell_type": "code",
   "execution_count": 11,
   "metadata": {},
   "outputs": [
    {
     "name": "stdout",
     "output_type": "stream",
     "text": [
      "ここでは、「LLM」が指す「大規模言語モデル」について説明します。\n",
      "\n",
      "**大規模言語モデル (Large Language Model, LLM)** は、自然言語処理（NLP）の分野で使用される人工知能の一形態です。これらのモデルは、大量のテキストデータから学習し、自然言語を理解し、生成する能力を持っています。\n",
      "\n",
      "### 特徴\n",
      "1. **大規模なデータセット**:\n",
      "   LLMは、インターネット上のテキストや書籍など、大量のデータで訓練されます。これにより、多様な文脈やテーマに関する知識を蓄積しています。\n",
      "\n",
      "2. **トランスフォーマーアーキテクチャ**:\n",
      "   多くのLLMはトランスフォーマーと呼ばれるニューラルネットワークのアーキテクチャを基にしています。この構造は、並列処理が可能であり、長文の依存関係を効率的に扱うことができます。\n",
      "\n",
      "3. **文章生成能力**:\n",
      "   訓練を通じて文脈を学習し、自然な形でテキストを生成する能力があります。質問応答、文章の要約、自動翻訳など、さまざまな応用が可能です。\n",
      "\n",
      "4. **ファインチューニング**:\n",
      "   特定のタスクや分野に特化するために、事前に訓練されたモデルを追加のデータで再教育（ファインチューニング）することができます。\n",
      "\n",
      "### 利用例\n",
      "- **チャットボット**:\n",
      "  ユーザーとの対話を行い、情報を提供したり、コンサルティングサービスを提供したりします。\n",
      "  \n",
      "- **コンテンツ生成**:\n",
      "  記事やストーリー、マーケティングコピーなど、さまざまなコンテンツを自動的に生成します。\n",
      "\n",
      "- **翻訳**:\n",
      "  異なる言語の間での翻訳タスクを高精度で実施します。\n",
      "\n",
      "- **要約**:\n",
      "  大量の情報を短い要約に凝縮する役割を果たします。\n",
      "\n",
      "### 代表的なモデル\n",
      "いくつかの著名な大規模言語モデルには、OpenAIのGPT（Generative Pre-trained Transformer）シリーズ、GoogleのBERT（Bidirectional Encoder Representations from Transformers）、MetaのLLaMA（Large Language Model Meta AI）などがあります。\n",
      "\n",
      "大規模言語モデルは、さまざまな分野での応用が進んでおり、今後もさらなる進化が期待されています。\n"
     ]
    }
   ],
   "source": [
    "llm_agent('Wikipediaの情報をもとにLLMについて説明して下さい。')"
   ]
  },
  {
   "cell_type": "code",
   "execution_count": 12,
   "metadata": {},
   "outputs": [
    {
     "name": "stdout",
     "output_type": "stream",
     "text": [
      "LLMは、主に二つの意味で使われる略語です。一つは「大規模言語モデル（Large Language Model）」、もう一つは「法学修士（Master of Laws）」です。\n",
      "\n",
      "### 大規模言語モデル (Large Language Model)\n",
      "大規模言語モデルは、人工知能（AI）の一種で、膨大なテキストデータを使用して訓練されたモデルです。具体的には、文章の生成、要約、翻訳、質問応答など、さまざまな自然言語処理のタスクを行うことができます。これらのモデルは、深層学習（Deep Learning）技術を基にしており、多数のパラメータを持つため、非常に高い精度で人間のような自然な言語を理解し生成する能力があります。近年、GPT（Generative Pre-trained Transformer）シリーズやBERT（Bidirectional Encoder Representations from Transformers）などのモデルが広く知れ渡っています。\n",
      "\n",
      "### 法学修士 (Master of Laws, LL.M.)\n",
      "法学修士は、法学の大学院修士課程の一つです。この学位は、法律の専門家がさらなる専門知識を得るため、または国際的な法律の理解を深めるために取得されることが多いです。一般的には、法学の学士号（LL.B.）を持つ人が対象となります。LL.M.プログラムは、特定の法律分野（例えば、国際法、商法、知的財産法など）にフォーカスすることもあり、法律のキャリアアップや専門性の向上に寄与します。\n",
      "\n",
      "このように、LLMは文脈に応じて異なる意味を持つ言葉ですので、使用する際には注意が必要です。\n"
     ]
    }
   ],
   "source": [
    "llm_agent('LLMについて説明して下さい。')"
   ]
  }
 ],
 "metadata": {
  "kernelspec": {
   "display_name": "langchain",
   "language": "python",
   "name": "python3"
  },
  "language_info": {
   "codemirror_mode": {
    "name": "ipython",
    "version": 3
   },
   "file_extension": ".py",
   "mimetype": "text/x-python",
   "name": "python",
   "nbconvert_exporter": "python",
   "pygments_lexer": "ipython3",
   "version": "3.11.9"
  }
 },
 "nbformat": 4,
 "nbformat_minor": 2
}
