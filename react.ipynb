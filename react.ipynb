{
 "cells": [
  {
   "cell_type": "markdown",
   "metadata": {},
   "source": [
    "# Library"
   ]
  },
  {
   "cell_type": "code",
   "execution_count": 9,
   "metadata": {},
   "outputs": [],
   "source": [
    "import os\n",
    "from dotenv import load_dotenv \n",
    "import yfinance as yf\n",
    "from datetime import datetime\n",
    "from gtts import gTTS\n",
    "from langchain.prompts import PromptTemplate\n",
    "from langchain.agents import Tool, create_react_agent \n",
    "from langchain.tools import DuckDuckGoSearchResults\n",
    "from langchain_openai import OpenAI\n",
    "from langchain.agents.output_parsers import ReActSingleInputOutputParser\n",
    "from langchain.schema import AgentFinish\n",
    "import re\n",
    "\n",
    "# 環境変数の読み込み\n",
    "load_dotenv()  # .envファイルから環境変数を読み込み\n",
    "os.environ['OPENAI_API_KEY'] = os.getenv('OPENAI_API_KEY')\n",
    "\n",
    "# GPTモデルの設定\n",
    "model_name = 'gpt-4o-mini-2024-07-18'  # 'gpt-4o-2024-08-06'\n",
    "\n",
    "# OpenAI APIのキーをセット\n",
    "llm = OpenAI(temperature=0.5, api_key=os.getenv('OPENAI_API_KEY'))"
   ]
  },
  {
   "cell_type": "markdown",
   "metadata": {},
   "source": [
    "# Function"
   ]
  },
  {
   "cell_type": "code",
   "execution_count": 10,
   "metadata": {},
   "outputs": [],
   "source": [
    "# DuckDuckGo検索ツールの作成\n",
    "search_tool = Tool(\n",
    "    name=\"DuckDuckGo Search\",\n",
    "    func=DuckDuckGoSearchResults(),\n",
    "    description=\"Use this tool to search for information on the web.\"\n",
    ")\n",
    "\n",
    "# 独自Python REPLツールの作成\n",
    "def execute_python_code(code: str):\n",
    "    try:\n",
    "        # 入力されたコードを実行\n",
    "        exec_globals = {}\n",
    "        exec(code, exec_globals)\n",
    "        return exec_globals.get(\"result\", \"No result variable found.\")\n",
    "    except Exception as e:\n",
    "        return f\"Error: {str(e)}\"\n",
    "\n",
    "python_tool = Tool(\n",
    "    name=\"Python Executor\",\n",
    "    func=execute_python_code,\n",
    "    description=\"Execute Python code.\"\n",
    ")\n",
    "\n",
    "# 株価取得ツールの作成\n",
    "def get_stock_price(ticker: str, start_date: str, end_date: str):\n",
    "    stock = yf.Ticker(ticker)\n",
    "    # 指定された期間の株価を取得\n",
    "    stock_info = stock.history(start=start_date, end=end_date)\n",
    "    \n",
    "    if not stock_info.empty:\n",
    "        # 期間内の終値を取得\n",
    "        closing_price = stock_info['Close'][-1]\n",
    "        return f\"The stock price of {ticker} on {end_date} is {closing_price}.\"\n",
    "    else:\n",
    "        return f\"Could not retrieve stock price for {ticker} from {start_date} to {end_date}.\"\n",
    "\n",
    "# ツールの定義\n",
    "stock_tool = Tool(\n",
    "    name=\"Stock Price Checker\",\n",
    "    func=get_stock_price,\n",
    "    description=\"Retrieve the stock price for a specific company (ticker symbol) for a given time period.\"\n",
    ")\n",
    "\n",
    "# 自動音声合成ツールの作成\n",
    "def text_to_speech(text: str, language: str = 'en'):\n",
    "    tts = gTTS(text=text, lang=language)\n",
    "    tts.save(\"output.mp3\")\n",
    "    os.system(\"mpg321 output.mp3\")  # オーディオを再生する\n",
    "    return \"The audio has been generated and played.\"\n",
    "\n",
    "speech_tool = Tool(\n",
    "    name=\"Text to Speech\",\n",
    "    func=text_to_speech,\n",
    "    description=\"Convert text to speech and play the audio.\"\n",
    ")"
   ]
  },
  {
   "cell_type": "markdown",
   "metadata": {},
   "source": [
    "# Custom Output Parser"
   ]
  },
  {
   "cell_type": "code",
   "execution_count": 11,
   "metadata": {},
   "outputs": [],
   "source": [
    "# カスタム出力パーサーの作成\n",
    "class CustomOutputParser(ReActSingleInputOutputParser):\n",
    "    def parse(self, text: str):\n",
    "        # \"Final Answer:\" があれば、その部分を最終結果とみなす\n",
    "        if \"Final Answer:\" in text:\n",
    "            final_answer = text.split(\"Final Answer:\")[-1].strip()\n",
    "            return AgentFinish({\"output\": final_answer}, text)\n",
    "        \n",
    "        # 通常の最終出力を想定し、\"Action\"や\"Final Answer\"がない場合でも出力をそのまま返す\n",
    "        return AgentFinish({\"output\": text.strip()}, text)"
   ]
  },
  {
   "cell_type": "markdown",
   "metadata": {},
   "source": [
    "# Prompt Template"
   ]
  },
  {
   "cell_type": "code",
   "execution_count": 12,
   "metadata": {},
   "outputs": [],
   "source": [
    "# ReActエージェント用のプロンプトテンプレートの作成\n",
    "react_prompt = PromptTemplate(\n",
    "    input_variables=[\"input\", \"agent_scratchpad\"],\n",
    "    template=(\n",
    "        \"You are a knowledgeable AI with access to the following tools:\\n\"\n",
    "        \"{tool_names}\\n\\n\"\n",
    "        \"You can use these tools to answer the following question:\\n\"\n",
    "        \"{input}\\n\\n\"\n",
    "        \"{agent_scratchpad}\"\n",
    "    )\n",
    ")"
   ]
  },
  {
   "cell_type": "markdown",
   "metadata": {},
   "source": [
    "# ReAct base Agent"
   ]
  },
  {
   "cell_type": "code",
   "execution_count": 13,
   "metadata": {},
   "outputs": [],
   "source": [
    "# ReActベースのエージェントを初期化\n",
    "tools = [search_tool, python_tool, stock_tool, speech_tool]\n",
    "tool_descriptions = \"\\n\".join([f\"{tool.name}: {tool.description}\" for tool in tools])\n",
    "tool_names = \", \".join([tool.name for tool in tools])\n",
    "\n",
    "# カスタム出力パーサーを使用してエージェントを作成\n",
    "output_parser = CustomOutputParser()\n",
    "agent = create_react_agent(\n",
    "    llm=llm,\n",
    "    tools=tools,\n",
    "    prompt=react_prompt.partial(\n",
    "        tools=tool_descriptions,\n",
    "        tool_names=tool_names\n",
    "    ),\n",
    "    output_parser=output_parser\n",
    ")"
   ]
  },
  {
   "cell_type": "markdown",
   "metadata": {},
   "source": [
    "# Question"
   ]
  },
  {
   "cell_type": "code",
   "execution_count": 17,
   "metadata": {},
   "outputs": [
    {
     "name": "stdout",
     "output_type": "stream",
     "text": [
      "\n",
      "Result:\n",
      "-----------------------------------------\n",
      "The latest stock price of AAPL is $127.79 per share. Using the Python Executor, the result of 5 + 5 is 10.\n",
      "\n",
      "Log:\n",
      "-----------------------------------------\n",
      "The latest stock price of AAPL is $127.79 per share. Using the Python Executor, the result of 5 + 5 is 10.\n",
      "\n"
     ]
    }
   ],
   "source": [
    "question = \"What is the latest stock price of AAPL and do a Python calculation of result = 5 + 5?\"\n",
    "\n",
    "# `intermediate_steps` を初期化してエージェントを呼び出す\n",
    "response = agent.invoke({\n",
    "    \"input\": question,\n",
    "    \"agent_scratchpad\": \"\",\n",
    "    \"intermediate_steps\": []\n",
    "})\n",
    "\n",
    "# AgentFinish オブジェクトの return_values から結果を取得\n",
    "formatted_output = f\"\"\"\n",
    "Result:\n",
    "-----------------------------------------\n",
    "{response.return_values['output']}\n",
    "\n",
    "Log:\n",
    "-----------------------------------------\n",
    "{response.log if hasattr(response, 'log') else 'No log information available.'}\n",
    "\"\"\"\n",
    "\n",
    "print(formatted_output)"
   ]
  },
  {
   "cell_type": "code",
   "execution_count": 19,
   "metadata": {},
   "outputs": [
    {
     "name": "stdout",
     "output_type": "stream",
     "text": [
      "\n",
      "Result:\n",
      "-----------------------------------------\n",
      "日本で一番高い山の標高は、富士山の3776メートルです。その高さの平方根は61.46メートルです。\n",
      "\n",
      "Log:\n",
      "-----------------------------------------\n",
      "日本で一番高い山の標高は、富士山の3776メートルです。その高さの平方根は61.46メートルです。\n",
      "\n"
     ]
    }
   ],
   "source": [
    "question = \"日本で一番高い山の標高は何メートル？その高さの平方根は？\"\n",
    "\n",
    "# `intermediate_steps` を初期化してエージェントを呼び出す\n",
    "response = agent.invoke({\n",
    "    \"input\": question,\n",
    "    \"agent_scratchpad\": \"\",\n",
    "    \"intermediate_steps\": []\n",
    "})\n",
    "\n",
    "# AgentFinish オブジェクトの return_values から結果を取得\n",
    "formatted_output = f\"\"\"\n",
    "Result:\n",
    "-----------------------------------------\n",
    "{response.return_values['output']}\n",
    "\n",
    "Log:\n",
    "-----------------------------------------\n",
    "{response.log if hasattr(response, 'log') else 'No log information available.'}\n",
    "\"\"\"\n",
    "\n",
    "print(formatted_output)"
   ]
  },
  {
   "cell_type": "code",
   "execution_count": null,
   "metadata": {},
   "outputs": [],
   "source": []
  }
 ],
 "metadata": {
  "kernelspec": {
   "display_name": "agent",
   "language": "python",
   "name": "python3"
  },
  "language_info": {
   "codemirror_mode": {
    "name": "ipython",
    "version": 3
   },
   "file_extension": ".py",
   "mimetype": "text/x-python",
   "name": "python",
   "nbconvert_exporter": "python",
   "pygments_lexer": "ipython3",
   "version": "3.11.9"
  }
 },
 "nbformat": 4,
 "nbformat_minor": 2
}
