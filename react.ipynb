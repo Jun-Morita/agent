{
 "cells": [
  {
   "cell_type": "markdown",
   "metadata": {},
   "source": [
    "# Library"
   ]
  },
  {
   "cell_type": "code",
   "execution_count": 1,
   "metadata": {},
   "outputs": [],
   "source": [
    "import os\n",
    "from dotenv import load_dotenv \n",
    "import pandas_datareader.data as web\n",
    "from langchain import hub\n",
    "from langchain.agents import Tool, create_react_agent \n",
    "from langchain.tools import DuckDuckGoSearchResults\n",
    "from langchain_openai import OpenAI\n",
    "from langchain.agents.output_parsers import ReActSingleInputOutputParser\n",
    "from langchain.schema import AgentFinish\n",
    "\n",
    "# 環境変数の読み込み\n",
    "load_dotenv()  # .envファイルから環境変数を読み込み\n",
    "os.environ['OPENAI_API_KEY'] = os.getenv('OPENAI_API_KEY')\n",
    "\n",
    "# GPTモデルの設定\n",
    "model_name = 'gpt-4o-mini-2024-07-18'  # 'gpt-4o-2024-08-06'\n",
    "\n",
    "# OpenAI APIのキーをセット\n",
    "llm = OpenAI(temperature=0.5, api_key=os.getenv('OPENAI_API_KEY'))"
   ]
  },
  {
   "cell_type": "markdown",
   "metadata": {},
   "source": [
    "# Function"
   ]
  },
  {
   "cell_type": "code",
   "execution_count": 2,
   "metadata": {},
   "outputs": [],
   "source": [
    "# DuckDuckGo検索ツールの作成\n",
    "search_tool = Tool(\n",
    "    name=\"DuckDuckGo Search\",\n",
    "    func=DuckDuckGoSearchResults(),\n",
    "    description=\"Use this tool to search for general information on the web.\"\n",
    ")\n",
    "\n",
    "# 独自Python REPLツールの作成\n",
    "def execute_python_code(code: str):\n",
    "    try:\n",
    "        # 入力されたコードを実行\n",
    "        exec_globals = {}\n",
    "        exec(code, exec_globals)\n",
    "        return exec_globals.get(\"result\", \"No result variable found.\")\n",
    "    except Exception as e:\n",
    "        return f\"Error: {str(e)}\"\n",
    "\n",
    "python_tool = Tool(\n",
    "    name=\"Python Executor\",\n",
    "    func=execute_python_code,\n",
    "    description=\"Execute Python code.\"\n",
    ")\n",
    "\n",
    "# 株価取得ツールの作成\n",
    "def get_stock_price(code: str, date_from: str, date_to: str):\n",
    "    # 日本用のコードに変換\n",
    "    code = code + '.JP'\n",
    "    # stooqからデータ取得\n",
    "    df = web.DataReader(code, data_source='stooq', start=date_from, end=date_to)\n",
    "    \n",
    "    if not df.empty:\n",
    "        # 終値を取得し、JSON形式で返す\n",
    "        return df['Close'].to_json(orient='table')\n",
    "    else:\n",
    "        return f\"Could not retrieve stock price for {code} from {date_from} to {date_to}.\"\n",
    "\n",
    "def get_stock_price_range(arguments):\n",
    "    res = get_stock_price(\n",
    "        code=arguments.get('code'),\n",
    "        date_from=arguments.get('date_from'),\n",
    "        date_to=arguments.get('date_to')\n",
    "    )\n",
    "    return res\n",
    "\n",
    "stock_tool = Tool(\n",
    "    name=\"Stock Price Checker\",\n",
    "    func=get_stock_price,\n",
    "    description=\"\"\"Retrieve stock prices for a specific company (ticker symbol) for a given time period or at a specific point in time. \n",
    "Only use this tool for queries explicitly related to stock prices or financial data.\"\"\"\n",
    ")"
   ]
  },
  {
   "cell_type": "code",
   "execution_count": 9,
   "metadata": {},
   "outputs": [
    {
     "name": "stdout",
     "output_type": "stream",
     "text": [
      "snippet: Almost all mountains in the list are located in the Himalaya and Karakoram ranges to the south and west of the Tibetan plateau. All peaks 7,000 m (23,000 ft) or higher are located in East, Central or South Asia in a rectangle edged by Noshaq (7,492 m or 24,580 ft) on the Afghanistan-Pakistan border in the west, Jengish Chokusu (Tuōmù'ěr Fēng, 7,439 m or 24,406 ft) on the Kyrgyzstan ..., title: List of highest mountains on Earth - Wikipedia, link: https://en.wikipedia.org/wiki/List_of_highest_mountains_on_Earth, snippet: Mount Fuji, highest mountain in Japan. It rises to 12,388 feet (3,776 meters) near the Pacific coast of central Honshu, about 60 miles (100 km) west of the Tokyo-Yokohama metropolitan area. It is a volcano that has been dormant since its last eruption (1707) but is still generally classified as active by geologists., title: Mount Fuji | Facts, Height, Location, & Eruptions | Britannica, link: https://www.britannica.com/place/Mount-Fuji, snippet: Standing as the proud sentinel of Hokkaido, Japan's northernmost island, Mount Asahi rises triumphantly above its rugged surroundings. As the highest peak in Hokkaido, this majestic mountain offers intrepid explorers a glimpse into the untamed beauty of the island.With awe-inspiring scenery in every direction, including sprawling fields of alpine flowers and pristine lakes, the ascent to ..., title: 15 Best Mountains in Japan: A Guide to the Country's Most Spectacular ..., link: https://www.discoverwalks.com/blog/japan/15-best-mountains-in-japan-a-guide-to-the-countrys-most-spectacular-peaks/, snippet: 1. It's in the top 50 tallest mountains in the world. As well as being the highest in Japan, according to PeakList, Mt. Fuji ranks as the 35th tallest mountain in the world! It's no wonder, then, that it can be seen from so many places in the country. 2. It last erupted over 300 years ago. Mt. Fuji is one of the many volcanoes in Japan, and ..., title: 10 Awesome Facts About Mt. Fuji, Japan's Tallest Mountain, link: https://wanderwisdom.com/travel-destinations/10-Awesome-Facts-About-Mt-Fuji-Japans-Tallest-Mountain\n"
     ]
    }
   ],
   "source": [
    "search_result = search_tool.run(\"highest mountains in the world and highest mountains in Japan\")\n",
    "print(search_result)"
   ]
  },
  {
   "cell_type": "markdown",
   "metadata": {},
   "source": [
    "# Custom Output Parser"
   ]
  },
  {
   "cell_type": "code",
   "execution_count": 18,
   "metadata": {},
   "outputs": [],
   "source": [
    "# カスタム出力パーサーの作成\n",
    "class CustomOutputParser(ReActSingleInputOutputParser):\n",
    "    def parse(self, text: str):\n",
    "        # \"Final Answer:\" があれば、その部分を最終結果とみなす\n",
    "        if \"Final Answer:\" in text:\n",
    "            final_answer = text.split(\"Final Answer:\")[-1].strip()\n",
    "            return AgentFinish({\"output\": final_answer}, text)\n",
    "        \n",
    "        # \"Action\"が含まれている場合はアクションを実行する\n",
    "        if \"Action:\" in text:\n",
    "            action_text = text.split(\"Action:\")[-1].strip()\n",
    "            # 例として \"DuckDuckGo Search\" を処理\n",
    "            if \"DuckDuckGo Search\" in action_text:\n",
    "                action_input = action_text.split(\"Action Input:\")[-1].strip()\n",
    "                return AgentAction(\"search_tool\", action_input, text)\n",
    "            # 他のアクションも追加できる\n",
    "            elif \"Python\" in action_text:\n",
    "                action_input = action_text.split(\"Action Input:\")[-1].strip()\n",
    "                return AgentAction(\"python_tool\", action_input, text)\n",
    "        \n",
    "        # \"Final Answer\"も\"Action\"もない場合はそのまま出力\n",
    "        return AgentFinish({\"output\": text.strip()}, text)"
   ]
  },
  {
   "cell_type": "markdown",
   "metadata": {},
   "source": [
    "# Prompt Template"
   ]
  },
  {
   "cell_type": "code",
   "execution_count": 4,
   "metadata": {},
   "outputs": [
    {
     "name": "stdout",
     "output_type": "stream",
     "text": [
      "input_variables=['agent_scratchpad', 'input', 'tool_names', 'tools'] input_types={} partial_variables={} metadata={'lc_hub_owner': 'hwchase17', 'lc_hub_repo': 'react', 'lc_hub_commit_hash': 'd15fe3c426f1c4b3f37c9198853e4a86e20c425ca7f4752ec0c9b0e97ca7ea4d'} template='Answer the following questions as best you can. You have access to the following tools:\\n\\n{tools}\\n\\nUse the following format:\\n\\nQuestion: the input question you must answer\\nThought: you should always think about what to do\\nAction: the action to take, should be one of [{tool_names}]\\nAction Input: the input to the action\\nObservation: the result of the action\\n... (this Thought/Action/Action Input/Observation can repeat N times)\\nThought: I now know the final answer\\nFinal Answer: the final answer to the original input question\\n\\nBegin!\\n\\nQuestion: {input}\\nThought:{agent_scratchpad}'\n"
     ]
    }
   ],
   "source": [
    "prompt = hub.pull(\"hwchase17/react\")\n",
    "print(prompt)"
   ]
  },
  {
   "cell_type": "markdown",
   "metadata": {},
   "source": [
    "# ReAct base Agent"
   ]
  },
  {
   "cell_type": "code",
   "execution_count": 10,
   "metadata": {},
   "outputs": [],
   "source": [
    "# ReActベースのエージェントを初期化\n",
    "tools = [search_tool, python_tool, stock_tool]\n",
    "tool_descriptions = \"\\n\".join([f\"{tool.name}: {tool.description}\" for tool in tools])\n",
    "tool_names = \", \".join([tool.name for tool in tools])\n",
    "\n",
    "# カスタム出力パーサーを使用してエージェントを作成\n",
    "output_parser = CustomOutputParser()\n",
    "agent = create_react_agent(\n",
    "    llm=llm,\n",
    "    tools=tools,\n",
    "    prompt=prompt,\n",
    "    output_parser=output_parser\n",
    ")"
   ]
  },
  {
   "cell_type": "markdown",
   "metadata": {},
   "source": [
    "# Question"
   ]
  },
  {
   "cell_type": "code",
   "execution_count": 19,
   "metadata": {},
   "outputs": [
    {
     "name": "stdout",
     "output_type": "stream",
     "text": [
      "Agent response received\n",
      "return_values={'output': 'I should use DuckDuckGo Search to find information on the tallest mountains in the world and in Japan.\\nAction: DuckDuckGo Search\\nAction Input: \"tallest mountains in the world\" and \"tallest mountain in Japan\"'} log=' I should use DuckDuckGo Search to find information on the tallest mountains in the world and in Japan.\\nAction: DuckDuckGo Search\\nAction Input: \"tallest mountains in the world\" and \"tallest mountain in Japan\"'\n",
      "\n",
      "Result:\n",
      "-----------------------------------------\n",
      "I should use DuckDuckGo Search to find information on the tallest mountains in the world and in Japan.\n",
      "Action: DuckDuckGo Search\n",
      "Action Input: \"tallest mountains in the world\" and \"tallest mountain in Japan\"\n",
      "\n"
     ]
    }
   ],
   "source": [
    "question = \"世界で一番高い山は日本で一番高い山の何倍の高さですか？\"\n",
    "\n",
    "# `intermediate_steps` を初期化してエージェントを呼び出す\n",
    "response = agent.invoke({\n",
    "    \"input\": question,\n",
    "    \"agent_scratchpad\": \"\",\n",
    "    \"intermediate_steps\": []\n",
    "})\n",
    "\n",
    "print(\"Agent response received\")\n",
    "print(response)\n",
    "\n",
    "# AgentFinish オブジェクトの return_values から結果を取得\n",
    "formatted_output = f\"\"\"\n",
    "Result:\n",
    "-----------------------------------------\n",
    "{response.return_values['output']}\n",
    "\"\"\"\n",
    "\n",
    "print(formatted_output)"
   ]
  },
  {
   "cell_type": "code",
   "execution_count": 7,
   "metadata": {},
   "outputs": [
    {
     "name": "stdout",
     "output_type": "stream",
     "text": [
      "\n",
      "Result:\n",
      "-----------------------------------------\n",
      "We should search for information about Sumitomo Mitsui Financial Group and then use the Stock Price Checker to retrieve the stock price on August 30th, 2024.\n",
      "Action: DuckDuckGo Search\n",
      "Action Input: \"Sumitomo Mitsui Financial Group\"\n",
      "\n"
     ]
    }
   ],
   "source": [
    "question = \"Sumitomo Mitsui Financial Groupはどのような企業ですか？2024年8月30日時点の株価は？\"\n",
    "\n",
    "# `intermediate_steps` を初期化してエージェントを呼び出す\n",
    "response = agent.invoke({\n",
    "    \"input\": question,\n",
    "    \"agent_scratchpad\": \"\",\n",
    "    \"intermediate_steps\": []\n",
    "})\n",
    "\n",
    "# AgentFinish オブジェクトの return_values から結果を取得\n",
    "formatted_output = f\"\"\"\n",
    "Result:\n",
    "-----------------------------------------\n",
    "{response.return_values['output']}\n",
    "\"\"\"\n",
    "\n",
    "print(formatted_output)"
   ]
  },
  {
   "cell_type": "code",
   "execution_count": null,
   "metadata": {},
   "outputs": [],
   "source": []
  }
 ],
 "metadata": {
  "kernelspec": {
   "display_name": "agent",
   "language": "python",
   "name": "python3"
  },
  "language_info": {
   "codemirror_mode": {
    "name": "ipython",
    "version": 3
   },
   "file_extension": ".py",
   "mimetype": "text/x-python",
   "name": "python",
   "nbconvert_exporter": "python",
   "pygments_lexer": "ipython3",
   "version": "3.11.9"
  }
 },
 "nbformat": 4,
 "nbformat_minor": 2
}
